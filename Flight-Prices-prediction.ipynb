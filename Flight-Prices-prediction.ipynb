{
 "cells": [
  {
   "cell_type": "code",
   "execution_count": 110,
   "metadata": {},
   "outputs": [],
   "source": [
    "import pandas as pd\n",
    "import numpy as np\n",
    "import matplotlib.pyplot as plt\n",
    "from matplotlib.pyplot import figure\n",
    "%matplotlib inline\n",
    "import seaborn as sb"
   ]
  },
  {
   "cell_type": "code",
   "execution_count": 100,
   "metadata": {},
   "outputs": [
    {
     "data": {
      "text/html": [
       "<div>\n",
       "<style scoped>\n",
       "    .dataframe tbody tr th:only-of-type {\n",
       "        vertical-align: middle;\n",
       "    }\n",
       "\n",
       "    .dataframe tbody tr th {\n",
       "        vertical-align: top;\n",
       "    }\n",
       "\n",
       "    .dataframe thead th {\n",
       "        text-align: right;\n",
       "    }\n",
       "</style>\n",
       "<table border=\"1\" class=\"dataframe\">\n",
       "  <thead>\n",
       "    <tr style=\"text-align: right;\">\n",
       "      <th></th>\n",
       "      <th>Airline</th>\n",
       "      <th>Date</th>\n",
       "      <th>Departure Station</th>\n",
       "      <th>Arrival Station</th>\n",
       "      <th>Route Map</th>\n",
       "      <th>Departure Time</th>\n",
       "      <th>Arrival Time</th>\n",
       "      <th>Journey Time</th>\n",
       "      <th>Stops</th>\n",
       "      <th>Extra Info</th>\n",
       "      <th>Price</th>\n",
       "    </tr>\n",
       "  </thead>\n",
       "  <tbody>\n",
       "    <tr>\n",
       "      <th>0</th>\n",
       "      <td>IndiGo</td>\n",
       "      <td>24/03/2019</td>\n",
       "      <td>Banglore</td>\n",
       "      <td>New Delhi</td>\n",
       "      <td>BLR → DEL</td>\n",
       "      <td>22:20</td>\n",
       "      <td>01:10 22 Mar</td>\n",
       "      <td>2h 50m</td>\n",
       "      <td>non-stop</td>\n",
       "      <td>No info</td>\n",
       "      <td>3897</td>\n",
       "    </tr>\n",
       "    <tr>\n",
       "      <th>1</th>\n",
       "      <td>Air India</td>\n",
       "      <td>1/05/2019</td>\n",
       "      <td>Kolkata</td>\n",
       "      <td>Banglore</td>\n",
       "      <td>CCU → IXR → BBI → BLR</td>\n",
       "      <td>05:50</td>\n",
       "      <td>13:15</td>\n",
       "      <td>7h 25m</td>\n",
       "      <td>2 stops</td>\n",
       "      <td>No info</td>\n",
       "      <td>7662</td>\n",
       "    </tr>\n",
       "    <tr>\n",
       "      <th>2</th>\n",
       "      <td>Jet Airways</td>\n",
       "      <td>9/06/2019</td>\n",
       "      <td>Delhi</td>\n",
       "      <td>Cochin</td>\n",
       "      <td>DEL → LKO → BOM → COK</td>\n",
       "      <td>09:25</td>\n",
       "      <td>04:25 10 Jun</td>\n",
       "      <td>19h</td>\n",
       "      <td>2 stops</td>\n",
       "      <td>No info</td>\n",
       "      <td>13882</td>\n",
       "    </tr>\n",
       "    <tr>\n",
       "      <th>3</th>\n",
       "      <td>IndiGo</td>\n",
       "      <td>12/05/2019</td>\n",
       "      <td>Kolkata</td>\n",
       "      <td>Banglore</td>\n",
       "      <td>CCU → NAG → BLR</td>\n",
       "      <td>18:05</td>\n",
       "      <td>23:30</td>\n",
       "      <td>5h 25m</td>\n",
       "      <td>1 stop</td>\n",
       "      <td>No info</td>\n",
       "      <td>6218</td>\n",
       "    </tr>\n",
       "    <tr>\n",
       "      <th>4</th>\n",
       "      <td>IndiGo</td>\n",
       "      <td>01/03/2019</td>\n",
       "      <td>Banglore</td>\n",
       "      <td>New Delhi</td>\n",
       "      <td>BLR → NAG → DEL</td>\n",
       "      <td>16:50</td>\n",
       "      <td>21:35</td>\n",
       "      <td>4h 45m</td>\n",
       "      <td>1 stop</td>\n",
       "      <td>No info</td>\n",
       "      <td>13302</td>\n",
       "    </tr>\n",
       "  </tbody>\n",
       "</table>\n",
       "</div>"
      ],
      "text/plain": [
       "       Airline        Date Departure Station Arrival Station  \\\n",
       "0       IndiGo  24/03/2019          Banglore       New Delhi   \n",
       "1    Air India   1/05/2019           Kolkata        Banglore   \n",
       "2  Jet Airways   9/06/2019             Delhi          Cochin   \n",
       "3       IndiGo  12/05/2019           Kolkata        Banglore   \n",
       "4       IndiGo  01/03/2019          Banglore       New Delhi   \n",
       "\n",
       "               Route Map Departure Time  Arrival Time Journey Time     Stops  \\\n",
       "0              BLR → DEL          22:20  01:10 22 Mar       2h 50m  non-stop   \n",
       "1  CCU → IXR → BBI → BLR          05:50         13:15       7h 25m   2 stops   \n",
       "2  DEL → LKO → BOM → COK          09:25  04:25 10 Jun          19h   2 stops   \n",
       "3        CCU → NAG → BLR          18:05         23:30       5h 25m    1 stop   \n",
       "4        BLR → NAG → DEL          16:50         21:35       4h 45m    1 stop   \n",
       "\n",
       "  Extra Info  Price  \n",
       "0    No info   3897  \n",
       "1    No info   7662  \n",
       "2    No info  13882  \n",
       "3    No info   6218  \n",
       "4    No info  13302  "
      ]
     },
     "execution_count": 100,
     "metadata": {},
     "output_type": "execute_result"
    }
   ],
   "source": [
    "data=pd.read_excel('TRAIN.xlsx',index_col=False)\n",
    "data.head()"
   ]
  },
  {
   "cell_type": "code",
   "execution_count": 126,
   "metadata": {},
   "outputs": [
    {
     "name": "stdout",
     "output_type": "stream",
     "text": [
      "              Price        Month          Day        stops\n",
      "count   9000.000000  9000.000000  9000.000000  9000.000000\n",
      "mean    9087.764333     5.513222    12.678111     0.821444\n",
      "std     4605.498942     2.973947     8.791965     0.673343\n",
      "min     1759.000000     1.000000     3.000000     0.000000\n",
      "25%     5228.000000     3.000000     5.000000     0.000000\n",
      "50%     8369.000000     5.000000     6.000000     1.000000\n",
      "75%    12373.000000     6.000000    21.000000     1.000000\n",
      "max    79512.000000    12.000000    27.000000     3.000000\n",
      "<class 'pandas.core.frame.DataFrame'>\n",
      "RangeIndex: 9000 entries, 0 to 8999\n",
      "Data columns (total 14 columns):\n",
      "Airline              9000 non-null object\n",
      "Date                 9000 non-null datetime64[ns]\n",
      "Departure Station    9000 non-null object\n",
      "Arrival Station      9000 non-null object\n",
      "Route Map            9000 non-null object\n",
      "Departure Time       9000 non-null object\n",
      "Arrival Time         9000 non-null object\n",
      "Journey Time         9000 non-null object\n",
      "Stops                9000 non-null object\n",
      "Extra Info           9000 non-null object\n",
      "Price                9000 non-null int64\n",
      "Month                9000 non-null int64\n",
      "Day                  9000 non-null int64\n",
      "stops                9000 non-null int64\n",
      "dtypes: datetime64[ns](1), int64(4), object(9)\n",
      "memory usage: 984.5+ KB\n",
      "Info: None\n"
     ]
    }
   ],
   "source": [
    "print(data.describe())\n",
    "print(\"Info:\",data.info())"
   ]
  },
  {
   "cell_type": "code",
   "execution_count": 118,
   "metadata": {},
   "outputs": [],
   "source": [
    "data[\"Date\"]=pd.to_datetime(data['Date'])\n",
    "data['Month']=data['Date'].dt.month\n",
    "data['Day']=data['Date'].dt.day"
   ]
  },
  {
   "cell_type": "code",
   "execution_count": 119,
   "metadata": {},
   "outputs": [
    {
     "data": {
      "text/plain": [
       "Departure Station\n",
       "Banglore     9\n",
       "Chennai      5\n",
       "Delhi       10\n",
       "Kolkata      7\n",
       "Mumbai       6\n",
       "Name: Airline, dtype: int64"
      ]
     },
     "execution_count": 119,
     "metadata": {},
     "output_type": "execute_result"
    }
   ],
   "source": [
    "data.groupby('Departure Station')['Airline'].nunique()"
   ]
  },
  {
   "cell_type": "code",
   "execution_count": 114,
   "metadata": {},
   "outputs": [],
   "source": [
    "lst=[]\n",
    "for i in data['Stops']:\n",
    "    l=i.split(' ')[0]\n",
    "    lst.append(l)\n",
    "lst1=[0 if(i=='non-stop') else int(i) for i in lst]"
   ]
  },
  {
   "cell_type": "code",
   "execution_count": 115,
   "metadata": {},
   "outputs": [
    {
     "data": {
      "text/html": [
       "<div>\n",
       "<style scoped>\n",
       "    .dataframe tbody tr th:only-of-type {\n",
       "        vertical-align: middle;\n",
       "    }\n",
       "\n",
       "    .dataframe tbody tr th {\n",
       "        vertical-align: top;\n",
       "    }\n",
       "\n",
       "    .dataframe thead th {\n",
       "        text-align: right;\n",
       "    }\n",
       "</style>\n",
       "<table border=\"1\" class=\"dataframe\">\n",
       "  <thead>\n",
       "    <tr style=\"text-align: right;\">\n",
       "      <th></th>\n",
       "      <th>Airline</th>\n",
       "      <th>Date</th>\n",
       "      <th>Departure Station</th>\n",
       "      <th>Arrival Station</th>\n",
       "      <th>Route Map</th>\n",
       "      <th>Departure Time</th>\n",
       "      <th>Arrival Time</th>\n",
       "      <th>Journey Time</th>\n",
       "      <th>Stops</th>\n",
       "      <th>Extra Info</th>\n",
       "      <th>Price</th>\n",
       "      <th>Month</th>\n",
       "      <th>Day</th>\n",
       "      <th>stops</th>\n",
       "    </tr>\n",
       "  </thead>\n",
       "  <tbody>\n",
       "    <tr>\n",
       "      <th>0</th>\n",
       "      <td>IndiGo</td>\n",
       "      <td>2019-03-24</td>\n",
       "      <td>Banglore</td>\n",
       "      <td>New Delhi</td>\n",
       "      <td>BLR → DEL</td>\n",
       "      <td>22:20</td>\n",
       "      <td>01:10 22 Mar</td>\n",
       "      <td>2h 50m</td>\n",
       "      <td>non-stop</td>\n",
       "      <td>No info</td>\n",
       "      <td>3897</td>\n",
       "      <td>3</td>\n",
       "      <td>24</td>\n",
       "      <td>0</td>\n",
       "    </tr>\n",
       "    <tr>\n",
       "      <th>1</th>\n",
       "      <td>Air India</td>\n",
       "      <td>2019-01-05</td>\n",
       "      <td>Kolkata</td>\n",
       "      <td>Banglore</td>\n",
       "      <td>CCU → IXR → BBI → BLR</td>\n",
       "      <td>05:50</td>\n",
       "      <td>13:15</td>\n",
       "      <td>7h 25m</td>\n",
       "      <td>2 stops</td>\n",
       "      <td>No info</td>\n",
       "      <td>7662</td>\n",
       "      <td>1</td>\n",
       "      <td>5</td>\n",
       "      <td>2</td>\n",
       "    </tr>\n",
       "    <tr>\n",
       "      <th>2</th>\n",
       "      <td>Jet Airways</td>\n",
       "      <td>2019-09-06</td>\n",
       "      <td>Delhi</td>\n",
       "      <td>Cochin</td>\n",
       "      <td>DEL → LKO → BOM → COK</td>\n",
       "      <td>09:25</td>\n",
       "      <td>04:25 10 Jun</td>\n",
       "      <td>19h</td>\n",
       "      <td>2 stops</td>\n",
       "      <td>No info</td>\n",
       "      <td>13882</td>\n",
       "      <td>9</td>\n",
       "      <td>6</td>\n",
       "      <td>2</td>\n",
       "    </tr>\n",
       "    <tr>\n",
       "      <th>3</th>\n",
       "      <td>IndiGo</td>\n",
       "      <td>2019-12-05</td>\n",
       "      <td>Kolkata</td>\n",
       "      <td>Banglore</td>\n",
       "      <td>CCU → NAG → BLR</td>\n",
       "      <td>18:05</td>\n",
       "      <td>23:30</td>\n",
       "      <td>5h 25m</td>\n",
       "      <td>1 stop</td>\n",
       "      <td>No info</td>\n",
       "      <td>6218</td>\n",
       "      <td>12</td>\n",
       "      <td>5</td>\n",
       "      <td>1</td>\n",
       "    </tr>\n",
       "    <tr>\n",
       "      <th>4</th>\n",
       "      <td>IndiGo</td>\n",
       "      <td>2019-01-03</td>\n",
       "      <td>Banglore</td>\n",
       "      <td>New Delhi</td>\n",
       "      <td>BLR → NAG → DEL</td>\n",
       "      <td>16:50</td>\n",
       "      <td>21:35</td>\n",
       "      <td>4h 45m</td>\n",
       "      <td>1 stop</td>\n",
       "      <td>No info</td>\n",
       "      <td>13302</td>\n",
       "      <td>1</td>\n",
       "      <td>3</td>\n",
       "      <td>1</td>\n",
       "    </tr>\n",
       "  </tbody>\n",
       "</table>\n",
       "</div>"
      ],
      "text/plain": [
       "       Airline       Date Departure Station Arrival Station  \\\n",
       "0       IndiGo 2019-03-24          Banglore       New Delhi   \n",
       "1    Air India 2019-01-05           Kolkata        Banglore   \n",
       "2  Jet Airways 2019-09-06             Delhi          Cochin   \n",
       "3       IndiGo 2019-12-05           Kolkata        Banglore   \n",
       "4       IndiGo 2019-01-03          Banglore       New Delhi   \n",
       "\n",
       "               Route Map Departure Time  Arrival Time Journey Time     Stops  \\\n",
       "0              BLR → DEL          22:20  01:10 22 Mar       2h 50m  non-stop   \n",
       "1  CCU → IXR → BBI → BLR          05:50         13:15       7h 25m   2 stops   \n",
       "2  DEL → LKO → BOM → COK          09:25  04:25 10 Jun          19h   2 stops   \n",
       "3        CCU → NAG → BLR          18:05         23:30       5h 25m    1 stop   \n",
       "4        BLR → NAG → DEL          16:50         21:35       4h 45m    1 stop   \n",
       "\n",
       "  Extra Info  Price  Month  Day  stops  \n",
       "0    No info   3897      3   24      0  \n",
       "1    No info   7662      1    5      2  \n",
       "2    No info  13882      9    6      2  \n",
       "3    No info   6218     12    5      1  \n",
       "4    No info  13302      1    3      1  "
      ]
     },
     "execution_count": 115,
     "metadata": {},
     "output_type": "execute_result"
    }
   ],
   "source": [
    "data['stops']=lst1\n",
    "data.head()"
   ]
  },
  {
   "cell_type": "code",
   "execution_count": 147,
   "metadata": {},
   "outputs": [],
   "source": [
    "lst=[]\n",
    "for i in data['Journey Time']:\n",
    "    l=i.split(' ')\n",
    "    h=l[0].split('h')[0]\n",
    "    hr=int(h[0])\n",
    "    if(len(l)==2):\n",
    "        m=l[1].split('m')\n",
    "        mi=int(m[0])\n",
    "    else:\n",
    "        mi=0\n",
    "    t=(hr*60)+mi\n",
    "    lst.append(t)"
   ]
  },
  {
   "cell_type": "code",
   "execution_count": 148,
   "metadata": {},
   "outputs": [],
   "source": [
    "data['Journey_Time']=lst"
   ]
  },
  {
   "cell_type": "code",
   "execution_count": 149,
   "metadata": {},
   "outputs": [
    {
     "data": {
      "text/html": [
       "<div>\n",
       "<style scoped>\n",
       "    .dataframe tbody tr th:only-of-type {\n",
       "        vertical-align: middle;\n",
       "    }\n",
       "\n",
       "    .dataframe tbody tr th {\n",
       "        vertical-align: top;\n",
       "    }\n",
       "\n",
       "    .dataframe thead th {\n",
       "        text-align: right;\n",
       "    }\n",
       "</style>\n",
       "<table border=\"1\" class=\"dataframe\">\n",
       "  <thead>\n",
       "    <tr style=\"text-align: right;\">\n",
       "      <th></th>\n",
       "      <th>Airline</th>\n",
       "      <th>Date</th>\n",
       "      <th>Departure Station</th>\n",
       "      <th>Arrival Station</th>\n",
       "      <th>Route Map</th>\n",
       "      <th>Departure Time</th>\n",
       "      <th>Arrival Time</th>\n",
       "      <th>Journey Time</th>\n",
       "      <th>Stops</th>\n",
       "      <th>Extra Info</th>\n",
       "      <th>Price</th>\n",
       "      <th>Month</th>\n",
       "      <th>Day</th>\n",
       "      <th>stops</th>\n",
       "      <th>Journey_Time</th>\n",
       "    </tr>\n",
       "  </thead>\n",
       "  <tbody>\n",
       "    <tr>\n",
       "      <th>0</th>\n",
       "      <td>IndiGo</td>\n",
       "      <td>2019-03-24</td>\n",
       "      <td>Banglore</td>\n",
       "      <td>New Delhi</td>\n",
       "      <td>BLR → DEL</td>\n",
       "      <td>22:20</td>\n",
       "      <td>01:10 22 Mar</td>\n",
       "      <td>2h 50m</td>\n",
       "      <td>non-stop</td>\n",
       "      <td>No info</td>\n",
       "      <td>3897</td>\n",
       "      <td>3</td>\n",
       "      <td>24</td>\n",
       "      <td>0</td>\n",
       "      <td>170</td>\n",
       "    </tr>\n",
       "    <tr>\n",
       "      <th>1</th>\n",
       "      <td>Air India</td>\n",
       "      <td>2019-01-05</td>\n",
       "      <td>Kolkata</td>\n",
       "      <td>Banglore</td>\n",
       "      <td>CCU → IXR → BBI → BLR</td>\n",
       "      <td>05:50</td>\n",
       "      <td>13:15</td>\n",
       "      <td>7h 25m</td>\n",
       "      <td>2 stops</td>\n",
       "      <td>No info</td>\n",
       "      <td>7662</td>\n",
       "      <td>1</td>\n",
       "      <td>5</td>\n",
       "      <td>2</td>\n",
       "      <td>445</td>\n",
       "    </tr>\n",
       "    <tr>\n",
       "      <th>2</th>\n",
       "      <td>Jet Airways</td>\n",
       "      <td>2019-09-06</td>\n",
       "      <td>Delhi</td>\n",
       "      <td>Cochin</td>\n",
       "      <td>DEL → LKO → BOM → COK</td>\n",
       "      <td>09:25</td>\n",
       "      <td>04:25 10 Jun</td>\n",
       "      <td>19h</td>\n",
       "      <td>2 stops</td>\n",
       "      <td>No info</td>\n",
       "      <td>13882</td>\n",
       "      <td>9</td>\n",
       "      <td>6</td>\n",
       "      <td>2</td>\n",
       "      <td>60</td>\n",
       "    </tr>\n",
       "    <tr>\n",
       "      <th>3</th>\n",
       "      <td>IndiGo</td>\n",
       "      <td>2019-12-05</td>\n",
       "      <td>Kolkata</td>\n",
       "      <td>Banglore</td>\n",
       "      <td>CCU → NAG → BLR</td>\n",
       "      <td>18:05</td>\n",
       "      <td>23:30</td>\n",
       "      <td>5h 25m</td>\n",
       "      <td>1 stop</td>\n",
       "      <td>No info</td>\n",
       "      <td>6218</td>\n",
       "      <td>12</td>\n",
       "      <td>5</td>\n",
       "      <td>1</td>\n",
       "      <td>325</td>\n",
       "    </tr>\n",
       "    <tr>\n",
       "      <th>4</th>\n",
       "      <td>IndiGo</td>\n",
       "      <td>2019-01-03</td>\n",
       "      <td>Banglore</td>\n",
       "      <td>New Delhi</td>\n",
       "      <td>BLR → NAG → DEL</td>\n",
       "      <td>16:50</td>\n",
       "      <td>21:35</td>\n",
       "      <td>4h 45m</td>\n",
       "      <td>1 stop</td>\n",
       "      <td>No info</td>\n",
       "      <td>13302</td>\n",
       "      <td>1</td>\n",
       "      <td>3</td>\n",
       "      <td>1</td>\n",
       "      <td>285</td>\n",
       "    </tr>\n",
       "  </tbody>\n",
       "</table>\n",
       "</div>"
      ],
      "text/plain": [
       "       Airline       Date Departure Station Arrival Station  \\\n",
       "0       IndiGo 2019-03-24          Banglore       New Delhi   \n",
       "1    Air India 2019-01-05           Kolkata        Banglore   \n",
       "2  Jet Airways 2019-09-06             Delhi          Cochin   \n",
       "3       IndiGo 2019-12-05           Kolkata        Banglore   \n",
       "4       IndiGo 2019-01-03          Banglore       New Delhi   \n",
       "\n",
       "               Route Map Departure Time  Arrival Time Journey Time     Stops  \\\n",
       "0              BLR → DEL          22:20  01:10 22 Mar       2h 50m  non-stop   \n",
       "1  CCU → IXR → BBI → BLR          05:50         13:15       7h 25m   2 stops   \n",
       "2  DEL → LKO → BOM → COK          09:25  04:25 10 Jun          19h   2 stops   \n",
       "3        CCU → NAG → BLR          18:05         23:30       5h 25m    1 stop   \n",
       "4        BLR → NAG → DEL          16:50         21:35       4h 45m    1 stop   \n",
       "\n",
       "  Extra Info  Price  Month  Day  stops  Journey_Time  \n",
       "0    No info   3897      3   24      0           170  \n",
       "1    No info   7662      1    5      2           445  \n",
       "2    No info  13882      9    6      2            60  \n",
       "3    No info   6218     12    5      1           325  \n",
       "4    No info  13302      1    3      1           285  "
      ]
     },
     "execution_count": 149,
     "metadata": {},
     "output_type": "execute_result"
    }
   ],
   "source": [
    "data.head()"
   ]
  },
  {
   "cell_type": "markdown",
   "metadata": {},
   "source": [
    "# Boxplot Airline/Price"
   ]
  },
  {
   "cell_type": "code",
   "execution_count": 106,
   "metadata": {},
   "outputs": [
    {
     "data": {
      "image/png": "[encoded data removed]",
      "text/plain": [
       "<Figure size 1296x1008 with 1 Axes>"
      ]
     },
     "metadata": {
      "needs_background": "light"
     },
     "output_type": "display_data"
    }
   ],
   "source": [
    "var = 'Airline'\n",
    "d = pd.concat([data['Price'], data[var]], axis=1)\n",
    "f, ax = plt.subplots(figsize=(18, 14))\n",
    "fig = sb.boxplot(x=var, y=\"Price\", data=data)\n",
    "plt.xticks(fontsize=10, rotation=80)\n",
    "fig.axis(ymin=0, ymax=90000);"
   ]
  },
  {
   "cell_type": "markdown",
   "metadata": {},
   "source": [
    "# Frequency distribution of various Airlines"
   ]
  },
  {
   "cell_type": "code",
   "execution_count": 146,
   "metadata": {},
   "outputs": [
    {
     "name": "stdout",
     "output_type": "stream",
     "text": [
      "Jet Airways                          3227\n",
      "IndiGo                               1757\n",
      "Air India                            1471\n",
      "Multiple carriers                    1014\n",
      "SpiceJet                              697\n",
      "Vistara                               399\n",
      "Air Asia                              256\n",
      "GoAir                                 160\n",
      "Multiple carriers Premium economy      11\n",
      "Jet Airways Business                    4\n",
      "Vistara Premium economy                 3\n",
      "Trujet                                  1\n",
      "Name: Airline, dtype: int64\n"
     ]
    },
    {
     "data": {
      "text/plain": [
       "<matplotlib.axes._subplots.AxesSubplot at 0x1a132fe0eb8>"
      ]
     },
     "execution_count": 146,
     "metadata": {},
     "output_type": "execute_result"
    },
    {
     "data": {
      "image/png": "[encoded data removed]",
      "text/plain": [
       "<Figure size 432x288 with 1 Axes>"
      ]
     },
     "metadata": {},
     "output_type": "display_data"
    }
   ],
   "source": [
    "carrier_count = data[\"Airline\"].value_counts()\n",
    "print(carrier_count)\n",
    "data['Airline'].value_counts().plot('bar')"
   ]
  },
  {
   "cell_type": "markdown",
   "metadata": {},
   "source": [
    "# Variation of prices with different airlines"
   ]
  },
  {
   "cell_type": "code",
   "execution_count": 108,
   "metadata": {},
   "outputs": [
    {
     "data": {
      "text/plain": [
       "(array([    0., 10000., 20000., 30000., 40000., 50000., 60000., 70000.,\n",
       "        80000.]), <a list of 9 Text yticklabel objects>)"
      ]
     },
     "execution_count": 108,
     "metadata": {},
     "output_type": "execute_result"
    },
    {
     "data": {
      "image/png": "[encoded data removed]",
      "text/plain": [
       "<Figure size 432x288 with 1 Axes>"
      ]
     },
     "metadata": {
      "needs_background": "light"
     },
     "output_type": "display_data"
    }
   ],
   "source": [
    "sb.barplot(x=\"Airline\", y=\"Price\", data=data, palette=\"Blues_d\")\n",
    "plt.title('Price variation of different airlines')\n",
    "plt.xticks(fontsize=10, rotation=80)\n",
    "plt.yticks(fontsize=10)"
   ]
  },
  {
   "cell_type": "markdown",
   "metadata": {},
   "source": [
    "# Variation of prices with different stops"
   ]
  },
  {
   "cell_type": "code",
   "execution_count": 116,
   "metadata": {},
   "outputs": [
    {
     "data": {
      "text/plain": [
       "Text(0.5, 1.0, 'stops')"
      ]
     },
     "execution_count": 116,
     "metadata": {},
     "output_type": "execute_result"
    },
    {
     "data": {
      "image/png": "[encoded data removed]",
      "text/plain": [
       "<Figure size 720x360 with 1 Axes>"
      ]
     },
     "metadata": {},
     "output_type": "display_data"
    }
   ],
   "source": [
    "sb.set(style=\"darkgrid\")\n",
    "figure(figsize=(10,5)) \n",
    "sb.barplot(x=\"stops\", y=\"Price\", data=data, palette=\"Blues_d\")\n",
    "plt.title('stops')"
   ]
  },
  {
   "cell_type": "code",
   "execution_count": 164,
   "metadata": {},
   "outputs": [
    {
     "data": {
      "text/plain": [
       "<matplotlib.collections.PathCollection at 0x1a1340ed6d8>"
      ]
     },
     "execution_count": 164,
     "metadata": {},
     "output_type": "execute_result"
    },
    {
     "data": {
      "image/png": "[encoded data removed]",
      "text/plain": [
       "<Figure size 720x360 with 1 Axes>"
      ]
     },
     "metadata": {},
     "output_type": "display_data"
    }
   ],
   "source": [
    "#scatter plot Day_Of_Journey/Price\n",
    "plt.figure(figsize=(10,5))\n",
    "plt.xlim(1,30)\n",
    "plt.scatter(data['Day'], data['Price'])"
   ]
  },
  {
   "cell_type": "code",
   "execution_count": 167,
   "metadata": {},
   "outputs": [
    {
     "data": {
      "text/plain": [
       "<matplotlib.collections.PathCollection at 0x1a1341ee668>"
      ]
     },
     "execution_count": 167,
     "metadata": {},
     "output_type": "execute_result"
    },
    {
     "data": {
      "image/png": "[encoded data removed]",
      "text/plain": [
       "<Figure size 720x360 with 1 Axes>"
      ]
     },
     "metadata": {},
     "output_type": "display_data"
    }
   ],
   "source": [
    "#scatter plot Journey Time in minutes/Price\n",
    "plt.figure(figsize=(10,5))\n",
    "plt.scatter(data['Journey_Time'], y=data['Price'])"
   ]
  },
  {
   "cell_type": "code",
   "execution_count": 178,
   "metadata": {},
   "outputs": [
    {
     "data": {
      "text/plain": [
       "<matplotlib.axes._subplots.AxesSubplot at 0x1a13614d710>"
      ]
     },
     "execution_count": 178,
     "metadata": {},
     "output_type": "execute_result"
    },
    {
     "data": {
      "image/png": "[encoded data removed]",
      "text/plain": [
       "<Figure size 864x648 with 2 Axes>"
      ]
     },
     "metadata": {},
     "output_type": "display_data"
    }
   ],
   "source": [
    "corrmat = data.corr()\n",
    "f, ax = plt.subplots(figsize=(12, 9))\n",
    "sb.heatmap(corrmat, vmax= 1, vmin= -1,annot=True, center=0, linewidth=3)"
   ]
  },
  {
   "cell_type": "code",
   "execution_count": 8,
   "metadata": {},
   "outputs": [],
   "source": [
    "from sklearn.preprocessing import LabelEncoder"
   ]
  },
  {
   "cell_type": "code",
   "execution_count": 9,
   "metadata": {},
   "outputs": [],
   "source": [
    "le=LabelEncoder()"
   ]
  },
  {
   "cell_type": "code",
   "execution_count": 10,
   "metadata": {},
   "outputs": [],
   "source": [
    "data['Extra Info']=le.fit_transform(data['Extra Info'])"
   ]
  },
  {
   "cell_type": "code",
   "execution_count": 11,
   "metadata": {},
   "outputs": [
    {
     "data": {
      "text/html": [
       "<div>\n",
       "<style scoped>\n",
       "    .dataframe tbody tr th:only-of-type {\n",
       "        vertical-align: middle;\n",
       "    }\n",
       "\n",
       "    .dataframe tbody tr th {\n",
       "        vertical-align: top;\n",
       "    }\n",
       "\n",
       "    .dataframe thead th {\n",
       "        text-align: right;\n",
       "    }\n",
       "</style>\n",
       "<table border=\"1\" class=\"dataframe\">\n",
       "  <thead>\n",
       "    <tr style=\"text-align: right;\">\n",
       "      <th></th>\n",
       "      <th>Airline</th>\n",
       "      <th>Date</th>\n",
       "      <th>Departure Station</th>\n",
       "      <th>Arrival Station</th>\n",
       "      <th>Route Map</th>\n",
       "      <th>Departure Time</th>\n",
       "      <th>Arrival Time</th>\n",
       "      <th>Journey Time</th>\n",
       "      <th>Stops</th>\n",
       "      <th>Extra Info</th>\n",
       "      <th>Price</th>\n",
       "    </tr>\n",
       "  </thead>\n",
       "  <tbody>\n",
       "    <tr>\n",
       "      <th>0</th>\n",
       "      <td>IndiGo</td>\n",
       "      <td>24/03/2019</td>\n",
       "      <td>Banglore</td>\n",
       "      <td>New Delhi</td>\n",
       "      <td>BLR → DEL</td>\n",
       "      <td>22:20</td>\n",
       "      <td>01:10 22 Mar</td>\n",
       "      <td>2h 50m</td>\n",
       "      <td>non-stop</td>\n",
       "      <td>7</td>\n",
       "      <td>3897</td>\n",
       "    </tr>\n",
       "    <tr>\n",
       "      <th>1</th>\n",
       "      <td>Air India</td>\n",
       "      <td>1/05/2019</td>\n",
       "      <td>Kolkata</td>\n",
       "      <td>Banglore</td>\n",
       "      <td>CCU → IXR → BBI → BLR</td>\n",
       "      <td>05:50</td>\n",
       "      <td>13:15</td>\n",
       "      <td>7h 25m</td>\n",
       "      <td>2 stops</td>\n",
       "      <td>7</td>\n",
       "      <td>7662</td>\n",
       "    </tr>\n",
       "    <tr>\n",
       "      <th>2</th>\n",
       "      <td>Jet Airways</td>\n",
       "      <td>9/06/2019</td>\n",
       "      <td>Delhi</td>\n",
       "      <td>Cochin</td>\n",
       "      <td>DEL → LKO → BOM → COK</td>\n",
       "      <td>09:25</td>\n",
       "      <td>04:25 10 Jun</td>\n",
       "      <td>19h</td>\n",
       "      <td>2 stops</td>\n",
       "      <td>7</td>\n",
       "      <td>13882</td>\n",
       "    </tr>\n",
       "    <tr>\n",
       "      <th>3</th>\n",
       "      <td>IndiGo</td>\n",
       "      <td>12/05/2019</td>\n",
       "      <td>Kolkata</td>\n",
       "      <td>Banglore</td>\n",
       "      <td>CCU → NAG → BLR</td>\n",
       "      <td>18:05</td>\n",
       "      <td>23:30</td>\n",
       "      <td>5h 25m</td>\n",
       "      <td>1 stop</td>\n",
       "      <td>7</td>\n",
       "      <td>6218</td>\n",
       "    </tr>\n",
       "    <tr>\n",
       "      <th>4</th>\n",
       "      <td>IndiGo</td>\n",
       "      <td>01/03/2019</td>\n",
       "      <td>Banglore</td>\n",
       "      <td>New Delhi</td>\n",
       "      <td>BLR → NAG → DEL</td>\n",
       "      <td>16:50</td>\n",
       "      <td>21:35</td>\n",
       "      <td>4h 45m</td>\n",
       "      <td>1 stop</td>\n",
       "      <td>7</td>\n",
       "      <td>13302</td>\n",
       "    </tr>\n",
       "  </tbody>\n",
       "</table>\n",
       "</div>"
      ],
      "text/plain": [
       "       Airline        Date Departure Station Arrival Station  \\\n",
       "0       IndiGo  24/03/2019          Banglore       New Delhi   \n",
       "1    Air India   1/05/2019           Kolkata        Banglore   \n",
       "2  Jet Airways   9/06/2019             Delhi          Cochin   \n",
       "3       IndiGo  12/05/2019           Kolkata        Banglore   \n",
       "4       IndiGo  01/03/2019          Banglore       New Delhi   \n",
       "\n",
       "               Route Map Departure Time  Arrival Time Journey Time     Stops  \\\n",
       "0              BLR → DEL          22:20  01:10 22 Mar       2h 50m  non-stop   \n",
       "1  CCU → IXR → BBI → BLR          05:50         13:15       7h 25m   2 stops   \n",
       "2  DEL → LKO → BOM → COK          09:25  04:25 10 Jun          19h   2 stops   \n",
       "3        CCU → NAG → BLR          18:05         23:30       5h 25m    1 stop   \n",
       "4        BLR → NAG → DEL          16:50         21:35       4h 45m    1 stop   \n",
       "\n",
       "   Extra Info  Price  \n",
       "0           7   3897  \n",
       "1           7   7662  \n",
       "2           7  13882  \n",
       "3           7   6218  \n",
       "4           7  13302  "
      ]
     },
     "execution_count": 11,
     "metadata": {},
     "output_type": "execute_result"
    }
   ],
   "source": [
    "data.head()"
   ]
  },
  {
   "cell_type": "code",
   "execution_count": 12,
   "metadata": {},
   "outputs": [],
   "source": [
    "data['Airline']=le.fit_transform(data['Airline'])\n",
    "data['Departure Station']=le.fit_transform(data['Departure Station'])\n",
    "data['Arrival Station']=le.fit_transform(data['Arrival Station'])"
   ]
  },
  {
   "cell_type": "code",
   "execution_count": 17,
   "metadata": {},
   "outputs": [],
   "source": [
    "data=data.drop(['Stops','Date','Route Map'],1)"
   ]
  },
  {
   "cell_type": "code",
   "execution_count": 18,
   "metadata": {},
   "outputs": [
    {
     "data": {
      "text/html": [
       "<div>\n",
       "<style scoped>\n",
       "    .dataframe tbody tr th:only-of-type {\n",
       "        vertical-align: middle;\n",
       "    }\n",
       "\n",
       "    .dataframe tbody tr th {\n",
       "        vertical-align: top;\n",
       "    }\n",
       "\n",
       "    .dataframe thead th {\n",
       "        text-align: right;\n",
       "    }\n",
       "</style>\n",
       "<table border=\"1\" class=\"dataframe\">\n",
       "  <thead>\n",
       "    <tr style=\"text-align: right;\">\n",
       "      <th></th>\n",
       "      <th>Airline</th>\n",
       "      <th>Departure Station</th>\n",
       "      <th>Arrival Station</th>\n",
       "      <th>Departure Time</th>\n",
       "      <th>Arrival Time</th>\n",
       "      <th>Journey Time</th>\n",
       "      <th>Extra Info</th>\n",
       "      <th>Price</th>\n",
       "      <th>stops</th>\n",
       "      <th>Month</th>\n",
       "      <th>Day</th>\n",
       "    </tr>\n",
       "  </thead>\n",
       "  <tbody>\n",
       "    <tr>\n",
       "      <th>0</th>\n",
       "      <td>3</td>\n",
       "      <td>0</td>\n",
       "      <td>5</td>\n",
       "      <td>22:20</td>\n",
       "      <td>01:10 22 Mar</td>\n",
       "      <td>2h 50m</td>\n",
       "      <td>7</td>\n",
       "      <td>3897</td>\n",
       "      <td>0</td>\n",
       "      <td>3</td>\n",
       "      <td>24</td>\n",
       "    </tr>\n",
       "    <tr>\n",
       "      <th>1</th>\n",
       "      <td>1</td>\n",
       "      <td>3</td>\n",
       "      <td>0</td>\n",
       "      <td>05:50</td>\n",
       "      <td>13:15</td>\n",
       "      <td>7h 25m</td>\n",
       "      <td>7</td>\n",
       "      <td>7662</td>\n",
       "      <td>2</td>\n",
       "      <td>1</td>\n",
       "      <td>5</td>\n",
       "    </tr>\n",
       "    <tr>\n",
       "      <th>2</th>\n",
       "      <td>4</td>\n",
       "      <td>2</td>\n",
       "      <td>1</td>\n",
       "      <td>09:25</td>\n",
       "      <td>04:25 10 Jun</td>\n",
       "      <td>19h</td>\n",
       "      <td>7</td>\n",
       "      <td>13882</td>\n",
       "      <td>2</td>\n",
       "      <td>9</td>\n",
       "      <td>6</td>\n",
       "    </tr>\n",
       "    <tr>\n",
       "      <th>3</th>\n",
       "      <td>3</td>\n",
       "      <td>3</td>\n",
       "      <td>0</td>\n",
       "      <td>18:05</td>\n",
       "      <td>23:30</td>\n",
       "      <td>5h 25m</td>\n",
       "      <td>7</td>\n",
       "      <td>6218</td>\n",
       "      <td>1</td>\n",
       "      <td>12</td>\n",
       "      <td>5</td>\n",
       "    </tr>\n",
       "    <tr>\n",
       "      <th>4</th>\n",
       "      <td>3</td>\n",
       "      <td>0</td>\n",
       "      <td>5</td>\n",
       "      <td>16:50</td>\n",
       "      <td>21:35</td>\n",
       "      <td>4h 45m</td>\n",
       "      <td>7</td>\n",
       "      <td>13302</td>\n",
       "      <td>1</td>\n",
       "      <td>1</td>\n",
       "      <td>3</td>\n",
       "    </tr>\n",
       "  </tbody>\n",
       "</table>\n",
       "</div>"
      ],
      "text/plain": [
       "   Airline  Departure Station  Arrival Station Departure Time  Arrival Time  \\\n",
       "0        3                  0                5          22:20  01:10 22 Mar   \n",
       "1        1                  3                0          05:50         13:15   \n",
       "2        4                  2                1          09:25  04:25 10 Jun   \n",
       "3        3                  3                0          18:05         23:30   \n",
       "4        3                  0                5          16:50         21:35   \n",
       "\n",
       "  Journey Time  Extra Info  Price  stops  Month  Day  \n",
       "0       2h 50m           7   3897      0      3   24  \n",
       "1       7h 25m           7   7662      2      1    5  \n",
       "2          19h           7  13882      2      9    6  \n",
       "3       5h 25m           7   6218      1     12    5  \n",
       "4       4h 45m           7  13302      1      1    3  "
      ]
     },
     "execution_count": 18,
     "metadata": {},
     "output_type": "execute_result"
    }
   ],
   "source": [
    "data.head()"
   ]
  },
  {
   "cell_type": "code",
   "execution_count": 19,
   "metadata": {},
   "outputs": [],
   "source": [
    "out=data['Price']"
   ]
  },
  {
   "cell_type": "code",
   "execution_count": 22,
   "metadata": {},
   "outputs": [],
   "source": [
    "data=data.drop('Journey Time',1)"
   ]
  },
  {
   "cell_type": "code",
   "execution_count": 23,
   "metadata": {},
   "outputs": [],
   "source": [
    "lst=[]\n",
    "for i in data['Arrival Time']:\n",
    "    l=i.split(' ')[0]\n",
    "    lst.append(l)"
   ]
  },
  {
   "cell_type": "code",
   "execution_count": 24,
   "metadata": {},
   "outputs": [],
   "source": [
    "data[\"Arrival_Time\"]=lst"
   ]
  },
  {
   "cell_type": "code",
   "execution_count": 25,
   "metadata": {},
   "outputs": [],
   "source": [
    "data=data.drop('Arrival Time',1)"
   ]
  },
  {
   "cell_type": "code",
   "execution_count": 26,
   "metadata": {},
   "outputs": [
    {
     "data": {
      "text/html": [
       "<div>\n",
       "<style scoped>\n",
       "    .dataframe tbody tr th:only-of-type {\n",
       "        vertical-align: middle;\n",
       "    }\n",
       "\n",
       "    .dataframe tbody tr th {\n",
       "        vertical-align: top;\n",
       "    }\n",
       "\n",
       "    .dataframe thead th {\n",
       "        text-align: right;\n",
       "    }\n",
       "</style>\n",
       "<table border=\"1\" class=\"dataframe\">\n",
       "  <thead>\n",
       "    <tr style=\"text-align: right;\">\n",
       "      <th></th>\n",
       "      <th>Airline</th>\n",
       "      <th>Departure Station</th>\n",
       "      <th>Arrival Station</th>\n",
       "      <th>Departure Time</th>\n",
       "      <th>Extra Info</th>\n",
       "      <th>Price</th>\n",
       "      <th>stops</th>\n",
       "      <th>Month</th>\n",
       "      <th>Day</th>\n",
       "      <th>Journey_Time</th>\n",
       "      <th>Arrival_Time</th>\n",
       "    </tr>\n",
       "  </thead>\n",
       "  <tbody>\n",
       "    <tr>\n",
       "      <th>0</th>\n",
       "      <td>3</td>\n",
       "      <td>0</td>\n",
       "      <td>5</td>\n",
       "      <td>22:20</td>\n",
       "      <td>7</td>\n",
       "      <td>3897</td>\n",
       "      <td>0</td>\n",
       "      <td>3</td>\n",
       "      <td>24</td>\n",
       "      <td>170</td>\n",
       "      <td>01:10</td>\n",
       "    </tr>\n",
       "    <tr>\n",
       "      <th>1</th>\n",
       "      <td>1</td>\n",
       "      <td>3</td>\n",
       "      <td>0</td>\n",
       "      <td>05:50</td>\n",
       "      <td>7</td>\n",
       "      <td>7662</td>\n",
       "      <td>2</td>\n",
       "      <td>1</td>\n",
       "      <td>5</td>\n",
       "      <td>445</td>\n",
       "      <td>13:15</td>\n",
       "    </tr>\n",
       "    <tr>\n",
       "      <th>2</th>\n",
       "      <td>4</td>\n",
       "      <td>2</td>\n",
       "      <td>1</td>\n",
       "      <td>09:25</td>\n",
       "      <td>7</td>\n",
       "      <td>13882</td>\n",
       "      <td>2</td>\n",
       "      <td>9</td>\n",
       "      <td>6</td>\n",
       "      <td>60</td>\n",
       "      <td>04:25</td>\n",
       "    </tr>\n",
       "    <tr>\n",
       "      <th>3</th>\n",
       "      <td>3</td>\n",
       "      <td>3</td>\n",
       "      <td>0</td>\n",
       "      <td>18:05</td>\n",
       "      <td>7</td>\n",
       "      <td>6218</td>\n",
       "      <td>1</td>\n",
       "      <td>12</td>\n",
       "      <td>5</td>\n",
       "      <td>325</td>\n",
       "      <td>23:30</td>\n",
       "    </tr>\n",
       "    <tr>\n",
       "      <th>4</th>\n",
       "      <td>3</td>\n",
       "      <td>0</td>\n",
       "      <td>5</td>\n",
       "      <td>16:50</td>\n",
       "      <td>7</td>\n",
       "      <td>13302</td>\n",
       "      <td>1</td>\n",
       "      <td>1</td>\n",
       "      <td>3</td>\n",
       "      <td>285</td>\n",
       "      <td>21:35</td>\n",
       "    </tr>\n",
       "  </tbody>\n",
       "</table>\n",
       "</div>"
      ],
      "text/plain": [
       "   Airline  Departure Station  Arrival Station Departure Time  Extra Info  \\\n",
       "0        3                  0                5          22:20           7   \n",
       "1        1                  3                0          05:50           7   \n",
       "2        4                  2                1          09:25           7   \n",
       "3        3                  3                0          18:05           7   \n",
       "4        3                  0                5          16:50           7   \n",
       "\n",
       "   Price  stops  Month  Day  Journey_Time Arrival_Time  \n",
       "0   3897      0      3   24           170        01:10  \n",
       "1   7662      2      1    5           445        13:15  \n",
       "2  13882      2      9    6            60        04:25  \n",
       "3   6218      1     12    5           325        23:30  \n",
       "4  13302      1      1    3           285        21:35  "
      ]
     },
     "execution_count": 26,
     "metadata": {},
     "output_type": "execute_result"
    }
   ],
   "source": [
    "data.head()"
   ]
  },
  {
   "cell_type": "code",
   "execution_count": 27,
   "metadata": {},
   "outputs": [],
   "source": [
    "data['Arrival_Time']=le.fit_transform(data['Arrival_Time'])"
   ]
  },
  {
   "cell_type": "code",
   "execution_count": 28,
   "metadata": {},
   "outputs": [],
   "source": [
    "data['Departure Time']=le.fit_transform(data['Departure Time'])"
   ]
  },
  {
   "cell_type": "code",
   "execution_count": 29,
   "metadata": {},
   "outputs": [],
   "source": [
    "data['Journey_Time']=le.fit_transform(data['Journey_Time'])"
   ]
  },
  {
   "cell_type": "code",
   "execution_count": 30,
   "metadata": {},
   "outputs": [
    {
     "data": {
      "text/html": [
       "<div>\n",
       "<style scoped>\n",
       "    .dataframe tbody tr th:only-of-type {\n",
       "        vertical-align: middle;\n",
       "    }\n",
       "\n",
       "    .dataframe tbody tr th {\n",
       "        vertical-align: top;\n",
       "    }\n",
       "\n",
       "    .dataframe thead th {\n",
       "        text-align: right;\n",
       "    }\n",
       "</style>\n",
       "<table border=\"1\" class=\"dataframe\">\n",
       "  <thead>\n",
       "    <tr style=\"text-align: right;\">\n",
       "      <th></th>\n",
       "      <th>Airline</th>\n",
       "      <th>Departure Station</th>\n",
       "      <th>Arrival Station</th>\n",
       "      <th>Departure Time</th>\n",
       "      <th>Extra Info</th>\n",
       "      <th>Price</th>\n",
       "      <th>stops</th>\n",
       "      <th>Month</th>\n",
       "      <th>Day</th>\n",
       "      <th>Journey_Time</th>\n",
       "      <th>Arrival_Time</th>\n",
       "    </tr>\n",
       "  </thead>\n",
       "  <tbody>\n",
       "    <tr>\n",
       "      <th>0</th>\n",
       "      <td>3</td>\n",
       "      <td>0</td>\n",
       "      <td>5</td>\n",
       "      <td>209</td>\n",
       "      <td>7</td>\n",
       "      <td>3897</td>\n",
       "      <td>0</td>\n",
       "      <td>3</td>\n",
       "      <td>24</td>\n",
       "      <td>22</td>\n",
       "      <td>12</td>\n",
       "    </tr>\n",
       "    <tr>\n",
       "      <th>1</th>\n",
       "      <td>1</td>\n",
       "      <td>3</td>\n",
       "      <td>0</td>\n",
       "      <td>30</td>\n",
       "      <td>7</td>\n",
       "      <td>7662</td>\n",
       "      <td>2</td>\n",
       "      <td>1</td>\n",
       "      <td>5</td>\n",
       "      <td>77</td>\n",
       "      <td>103</td>\n",
       "    </tr>\n",
       "    <tr>\n",
       "      <th>2</th>\n",
       "      <td>4</td>\n",
       "      <td>2</td>\n",
       "      <td>1</td>\n",
       "      <td>69</td>\n",
       "      <td>7</td>\n",
       "      <td>13882</td>\n",
       "      <td>2</td>\n",
       "      <td>9</td>\n",
       "      <td>6</td>\n",
       "      <td>0</td>\n",
       "      <td>30</td>\n",
       "    </tr>\n",
       "    <tr>\n",
       "      <th>3</th>\n",
       "      <td>3</td>\n",
       "      <td>3</td>\n",
       "      <td>0</td>\n",
       "      <td>163</td>\n",
       "      <td>7</td>\n",
       "      <td>6218</td>\n",
       "      <td>1</td>\n",
       "      <td>12</td>\n",
       "      <td>5</td>\n",
       "      <td>53</td>\n",
       "      <td>215</td>\n",
       "    </tr>\n",
       "    <tr>\n",
       "      <th>4</th>\n",
       "      <td>3</td>\n",
       "      <td>0</td>\n",
       "      <td>5</td>\n",
       "      <td>148</td>\n",
       "      <td>7</td>\n",
       "      <td>13302</td>\n",
       "      <td>1</td>\n",
       "      <td>1</td>\n",
       "      <td>3</td>\n",
       "      <td>45</td>\n",
       "      <td>192</td>\n",
       "    </tr>\n",
       "  </tbody>\n",
       "</table>\n",
       "</div>"
      ],
      "text/plain": [
       "   Airline  Departure Station  Arrival Station  Departure Time  Extra Info  \\\n",
       "0        3                  0                5             209           7   \n",
       "1        1                  3                0              30           7   \n",
       "2        4                  2                1              69           7   \n",
       "3        3                  3                0             163           7   \n",
       "4        3                  0                5             148           7   \n",
       "\n",
       "   Price  stops  Month  Day  Journey_Time  Arrival_Time  \n",
       "0   3897      0      3   24            22            12  \n",
       "1   7662      2      1    5            77           103  \n",
       "2  13882      2      9    6             0            30  \n",
       "3   6218      1     12    5            53           215  \n",
       "4  13302      1      1    3            45           192  "
      ]
     },
     "execution_count": 30,
     "metadata": {},
     "output_type": "execute_result"
    }
   ],
   "source": [
    "data.head()"
   ]
  },
  {
   "cell_type": "code",
   "execution_count": 31,
   "metadata": {},
   "outputs": [],
   "source": [
    "inp=data.drop('Price',1)"
   ]
  },
  {
   "cell_type": "markdown",
   "metadata": {},
   "source": [
    "\n",
    "\n",
    "# Splitting our data to Test data and Train data\n"
   ]
  },
  {
   "cell_type": "code",
   "execution_count": 32,
   "metadata": {},
   "outputs": [],
   "source": [
    "from sklearn.model_selection import train_test_split\n",
    "xtrain,xtest,ytrain,ytest=train_test_split(inp,out,test_size=0.3,random_state=48)"
   ]
  },
  {
   "cell_type": "markdown",
   "metadata": {},
   "source": [
    "# Applying DescisionTree Regressor"
   ]
  },
  {
   "cell_type": "code",
   "execution_count": 33,
   "metadata": {},
   "outputs": [
    {
     "data": {
      "text/plain": [
       "DecisionTreeRegressor(criterion='mse', max_depth=None, max_features=None,\n",
       "           max_leaf_nodes=None, min_impurity_decrease=0.0,\n",
       "           min_impurity_split=None, min_samples_leaf=1,\n",
       "           min_samples_split=2, min_weight_fraction_leaf=0.0,\n",
       "           presort=False, random_state=None, splitter='best')"
      ]
     },
     "execution_count": 33,
     "metadata": {},
     "output_type": "execute_result"
    }
   ],
   "source": [
    "from sklearn.tree import DecisionTreeRegressor\n",
    "dtree_mod=DecisionTreeRegressor()\n",
    "dtree_mod.fit(xtrain,ytrain)"
   ]
  },
  {
   "cell_type": "code",
   "execution_count": 34,
   "metadata": {},
   "outputs": [
    {
     "data": {
      "text/plain": [
       "array([ 8567., 14151.,  6144., ...,  7832.,  4937.,  4174.])"
      ]
     },
     "execution_count": 34,
     "metadata": {},
     "output_type": "execute_result"
    }
   ],
   "source": [
    "ypred=dtree_mod.predict(xtest)\n",
    "ypred"
   ]
  },
  {
   "cell_type": "code",
   "execution_count": 35,
   "metadata": {},
   "outputs": [
    {
     "data": {
      "text/plain": [
       "4079878.382962963"
      ]
     },
     "execution_count": 35,
     "metadata": {},
     "output_type": "execute_result"
    }
   ],
   "source": [
    "from sklearn.metrics import mean_squared_error,r2_score\n",
    "mse=mean_squared_error(ytest,ypred)\n",
    "mse"
   ]
  },
  {
   "cell_type": "markdown",
   "metadata": {},
   "source": [
    "# r2_score"
   ]
  },
  {
   "cell_type": "code",
   "execution_count": 36,
   "metadata": {},
   "outputs": [
    {
     "data": {
      "text/plain": [
       "0.8162845426190024"
      ]
     },
     "execution_count": 36,
     "metadata": {},
     "output_type": "execute_result"
    }
   ],
   "source": [
    "r2_score(ytest,ypred)"
   ]
  },
  {
   "cell_type": "code",
   "execution_count": 37,
   "metadata": {},
   "outputs": [],
   "source": [
    "rmse=np.sqrt(mse)"
   ]
  },
  {
   "cell_type": "code",
   "execution_count": 38,
   "metadata": {},
   "outputs": [
    {
     "data": {
      "text/plain": [
       "2019.8708827454698"
      ]
     },
     "execution_count": 38,
     "metadata": {},
     "output_type": "execute_result"
    }
   ],
   "source": [
    "rmse"
   ]
  },
  {
   "cell_type": "markdown",
   "metadata": {},
   "source": [
    "# Applying Random Forest Regressor"
   ]
  },
  {
   "cell_type": "code",
   "execution_count": 39,
   "metadata": {},
   "outputs": [],
   "source": [
    "from sklearn.ensemble import RandomForestRegressor\n",
    "rand_mod=RandomForestRegressor()"
   ]
  },
  {
   "cell_type": "code",
   "execution_count": 40,
   "metadata": {},
   "outputs": [
    {
     "name": "stderr",
     "output_type": "stream",
     "text": [
      "C:\\Users\\Bezza Pavan Kumar\\Anaconda3\\lib\\site-packages\\sklearn\\ensemble\\forest.py:246: FutureWarning: The default value of n_estimators will change from 10 in version 0.20 to 100 in 0.22.\n",
      "  \"10 in version 0.20 to 100 in 0.22.\", FutureWarning)\n"
     ]
    },
    {
     "data": {
      "text/plain": [
       "RandomForestRegressor(bootstrap=True, criterion='mse', max_depth=None,\n",
       "           max_features='auto', max_leaf_nodes=None,\n",
       "           min_impurity_decrease=0.0, min_impurity_split=None,\n",
       "           min_samples_leaf=1, min_samples_split=2,\n",
       "           min_weight_fraction_leaf=0.0, n_estimators=10, n_jobs=None,\n",
       "           oob_score=False, random_state=None, verbose=0, warm_start=False)"
      ]
     },
     "execution_count": 40,
     "metadata": {},
     "output_type": "execute_result"
    }
   ],
   "source": [
    "rand_mod.fit(xtrain,ytrain)"
   ]
  },
  {
   "cell_type": "code",
   "execution_count": 41,
   "metadata": {},
   "outputs": [
    {
     "data": {
      "text/plain": [
       "array([ 7145.2, 14151. ,  5203.8, ...,  7832. ,  4391.5,  4174. ])"
      ]
     },
     "execution_count": 41,
     "metadata": {},
     "output_type": "execute_result"
    }
   ],
   "source": [
    "rf_ypred=rand_mod.predict(xtest)\n",
    "rf_ypred"
   ]
  },
  {
   "cell_type": "markdown",
   "metadata": {},
   "source": [
    "# r2_score"
   ]
  },
  {
   "cell_type": "code",
   "execution_count": 42,
   "metadata": {},
   "outputs": [
    {
     "data": {
      "text/plain": [
       "0.8565045517315261"
      ]
     },
     "execution_count": 42,
     "metadata": {},
     "output_type": "execute_result"
    }
   ],
   "source": [
    "rf_mse=mean_squared_error(rf_ypred,ytest)\n",
    "r2_score(ytest,rf_ypred)"
   ]
  },
  {
   "cell_type": "code",
   "execution_count": 43,
   "metadata": {},
   "outputs": [],
   "source": [
    "rf_rmse=np.sqrt(rf_mse)"
   ]
  },
  {
   "cell_type": "code",
   "execution_count": 44,
   "metadata": {},
   "outputs": [
    {
     "data": {
      "text/plain": [
       "1785.1298914515799"
      ]
     },
     "execution_count": 44,
     "metadata": {},
     "output_type": "execute_result"
    }
   ],
   "source": [
    "rf_rmse"
   ]
  },
  {
   "cell_type": "markdown",
   "metadata": {},
   "source": [
    "# Applying Adaboost Regressor "
   ]
  },
  {
   "cell_type": "code",
   "execution_count": 45,
   "metadata": {},
   "outputs": [
    {
     "data": {
      "text/plain": [
       "AdaBoostRegressor(base_estimator=None, learning_rate=1.0, loss='linear',\n",
       "         n_estimators=50, random_state=None)"
      ]
     },
     "execution_count": 45,
     "metadata": {},
     "output_type": "execute_result"
    }
   ],
   "source": [
    "from sklearn.ensemble import AdaBoostRegressor\n",
    "ada_mod=AdaBoostRegressor()\n",
    "ada_mod.fit(xtrain,ytrain)"
   ]
  },
  {
   "cell_type": "code",
   "execution_count": 46,
   "metadata": {},
   "outputs": [],
   "source": [
    "ada_ypred=ada_mod.predict(xtest)"
   ]
  },
  {
   "cell_type": "code",
   "execution_count": 47,
   "metadata": {},
   "outputs": [
    {
     "data": {
      "text/plain": [
       "12342544.250762807"
      ]
     },
     "execution_count": 47,
     "metadata": {},
     "output_type": "execute_result"
    }
   ],
   "source": [
    "ada_mse=mean_squared_error(ada_ypred,ytest)\n",
    "ada_mse"
   ]
  },
  {
   "cell_type": "markdown",
   "metadata": {},
   "source": [
    "# r2_score"
   ]
  },
  {
   "cell_type": "code",
   "execution_count": 48,
   "metadata": {},
   "outputs": [
    {
     "name": "stdout",
     "output_type": "stream",
     "text": [
      "3513.1957319174244\n",
      "0.444219667982521\n"
     ]
    }
   ],
   "source": [
    "ada_rmse=np.sqrt(ada_mse)\n",
    "print(ada_rmse)\n",
    "print(r2_score(ytest,ada_ypred))"
   ]
  },
  {
   "cell_type": "markdown",
   "metadata": {},
   "source": [
    "# Applying Catboost Regressor"
   ]
  },
  {
   "cell_type": "code",
   "execution_count": 49,
   "metadata": {},
   "outputs": [
    {
     "name": "stdout",
     "output_type": "stream",
     "text": [
      "0:\tlearn: 4475.5728729\ttotal: 134ms\tremaining: 2m 13s\n",
      "1:\tlearn: 4397.0976062\ttotal: 176ms\tremaining: 1m 28s\n",
      "2:\tlearn: 4321.9015066\ttotal: 217ms\tremaining: 1m 12s\n",
      "3:\tlearn: 4254.1279916\ttotal: 257ms\tremaining: 1m 3s\n",
      "4:\tlearn: 4178.9432105\ttotal: 300ms\tremaining: 59.6s\n",
      "5:\tlearn: 4119.9145622\ttotal: 333ms\tremaining: 55.1s\n",
      "6:\tlearn: 4053.2862839\ttotal: 399ms\tremaining: 56.6s\n",
      "7:\tlearn: 3977.4587163\ttotal: 458ms\tremaining: 56.8s\n",
      "8:\tlearn: 3912.9514320\ttotal: 517ms\tremaining: 57s\n",
      "9:\tlearn: 3857.0081851\ttotal: 559ms\tremaining: 55.3s\n",
      "10:\tlearn: 3806.7659087\ttotal: 617ms\tremaining: 55.4s\n",
      "11:\tlearn: 3747.9509473\ttotal: 712ms\tremaining: 58.6s\n",
      "12:\tlearn: 3685.9533057\ttotal: 795ms\tremaining: 1m\n",
      "13:\tlearn: 3639.9588937\ttotal: 872ms\tremaining: 1m 1s\n",
      "14:\tlearn: 3599.3213488\ttotal: 916ms\tremaining: 1m\n",
      "15:\tlearn: 3546.7033957\ttotal: 956ms\tremaining: 58.8s\n",
      "16:\tlearn: 3502.1549966\ttotal: 1000ms\tremaining: 57.8s\n",
      "17:\tlearn: 3458.9026346\ttotal: 1.06s\tremaining: 58s\n",
      "18:\tlearn: 3423.7947129\ttotal: 1.1s\tremaining: 57s\n",
      "19:\tlearn: 3384.2535242\ttotal: 1.15s\tremaining: 56.4s\n",
      "20:\tlearn: 3347.6822916\ttotal: 1.22s\tremaining: 56.7s\n",
      "21:\tlearn: 3307.1470792\ttotal: 1.27s\tremaining: 56.6s\n",
      "22:\tlearn: 3267.5914806\ttotal: 1.32s\tremaining: 55.9s\n",
      "23:\tlearn: 3237.0334607\ttotal: 1.37s\tremaining: 55.7s\n",
      "24:\tlearn: 3204.3490498\ttotal: 1.43s\tremaining: 55.8s\n",
      "25:\tlearn: 3169.5190543\ttotal: 1.47s\tremaining: 55s\n",
      "26:\tlearn: 3139.7249828\ttotal: 1.5s\tremaining: 54.2s\n",
      "27:\tlearn: 3115.8942314\ttotal: 1.54s\tremaining: 53.5s\n",
      "28:\tlearn: 3083.5236906\ttotal: 1.6s\tremaining: 53.6s\n",
      "29:\tlearn: 3061.1548945\ttotal: 1.65s\tremaining: 53.4s\n",
      "30:\tlearn: 3029.7669719\ttotal: 1.69s\tremaining: 52.9s\n",
      "31:\tlearn: 3000.5168948\ttotal: 1.74s\tremaining: 52.6s\n",
      "32:\tlearn: 2980.2363355\ttotal: 1.79s\tremaining: 52.4s\n",
      "33:\tlearn: 2959.7962171\ttotal: 1.84s\tremaining: 52.3s\n",
      "34:\tlearn: 2934.1008836\ttotal: 1.89s\tremaining: 52.1s\n",
      "35:\tlearn: 2909.2139192\ttotal: 1.95s\tremaining: 52.3s\n",
      "36:\tlearn: 2884.7592067\ttotal: 2.03s\tremaining: 52.8s\n",
      "37:\tlearn: 2863.7391698\ttotal: 2.11s\tremaining: 53.5s\n",
      "38:\tlearn: 2836.8361155\ttotal: 2.17s\tremaining: 53.5s\n",
      "39:\tlearn: 2811.4487001\ttotal: 2.22s\tremaining: 53.3s\n",
      "40:\tlearn: 2789.7197683\ttotal: 2.29s\tremaining: 53.5s\n",
      "41:\tlearn: 2773.3081602\ttotal: 2.33s\tremaining: 53.2s\n",
      "42:\tlearn: 2753.7414913\ttotal: 2.37s\tremaining: 52.9s\n",
      "43:\tlearn: 2738.9633153\ttotal: 2.42s\tremaining: 52.7s\n",
      "44:\tlearn: 2717.6355747\ttotal: 2.47s\tremaining: 52.4s\n",
      "45:\tlearn: 2702.8917366\ttotal: 2.52s\tremaining: 52.2s\n",
      "46:\tlearn: 2685.3632641\ttotal: 2.55s\tremaining: 51.7s\n",
      "47:\tlearn: 2669.7066051\ttotal: 2.59s\tremaining: 51.3s\n",
      "48:\tlearn: 2646.7203694\ttotal: 2.63s\tremaining: 51.1s\n",
      "49:\tlearn: 2624.8424880\ttotal: 2.69s\tremaining: 51s\n",
      "50:\tlearn: 2608.5408459\ttotal: 2.73s\tremaining: 50.8s\n",
      "51:\tlearn: 2593.3191359\ttotal: 2.77s\tremaining: 50.5s\n",
      "52:\tlearn: 2573.4154624\ttotal: 2.82s\tremaining: 50.5s\n",
      "53:\tlearn: 2559.0754311\ttotal: 2.87s\tremaining: 50.4s\n",
      "54:\tlearn: 2543.8145553\ttotal: 2.92s\tremaining: 50.3s\n",
      "55:\tlearn: 2533.7816579\ttotal: 2.96s\tremaining: 50s\n",
      "56:\tlearn: 2516.8281639\ttotal: 3.01s\tremaining: 49.8s\n",
      "57:\tlearn: 2507.4157189\ttotal: 3.07s\tremaining: 49.8s\n",
      "58:\tlearn: 2494.1009102\ttotal: 3.12s\tremaining: 49.7s\n",
      "59:\tlearn: 2476.3638812\ttotal: 3.17s\tremaining: 49.8s\n",
      "60:\tlearn: 2462.5747945\ttotal: 3.24s\tremaining: 49.9s\n",
      "61:\tlearn: 2447.0979839\ttotal: 3.32s\tremaining: 50.2s\n",
      "62:\tlearn: 2438.6810329\ttotal: 3.38s\tremaining: 50.3s\n",
      "63:\tlearn: 2427.6884061\ttotal: 3.44s\tremaining: 50.4s\n",
      "64:\tlearn: 2412.6745679\ttotal: 3.51s\tremaining: 50.5s\n",
      "65:\tlearn: 2406.6392956\ttotal: 3.55s\tremaining: 50.2s\n",
      "66:\tlearn: 2400.0228205\ttotal: 3.58s\tremaining: 49.9s\n",
      "67:\tlearn: 2388.0970780\ttotal: 3.65s\tremaining: 50.1s\n",
      "68:\tlearn: 2379.6506194\ttotal: 3.71s\tremaining: 50s\n",
      "69:\tlearn: 2370.0889428\ttotal: 3.76s\tremaining: 49.9s\n",
      "70:\tlearn: 2360.9237951\ttotal: 3.79s\tremaining: 49.6s\n",
      "71:\tlearn: 2349.4287864\ttotal: 3.85s\tremaining: 49.7s\n",
      "72:\tlearn: 2342.5077077\ttotal: 3.9s\tremaining: 49.5s\n",
      "73:\tlearn: 2336.2369131\ttotal: 3.94s\tremaining: 49.3s\n",
      "74:\tlearn: 2330.3631590\ttotal: 3.98s\tremaining: 49.1s\n",
      "75:\tlearn: 2325.0293133\ttotal: 4.03s\tremaining: 49s\n",
      "76:\tlearn: 2319.7756642\ttotal: 4.09s\tremaining: 49.1s\n",
      "77:\tlearn: 2312.4727464\ttotal: 4.14s\tremaining: 49s\n",
      "78:\tlearn: 2307.2125721\ttotal: 4.18s\tremaining: 48.8s\n",
      "79:\tlearn: 2301.2725146\ttotal: 4.28s\tremaining: 49.3s\n",
      "80:\tlearn: 2296.2506273\ttotal: 4.35s\tremaining: 49.4s\n",
      "81:\tlearn: 2292.6434197\ttotal: 4.42s\tremaining: 49.5s\n",
      "82:\tlearn: 2286.5408833\ttotal: 4.53s\tremaining: 50s\n",
      "83:\tlearn: 2276.3362052\ttotal: 4.7s\tremaining: 51.3s\n",
      "84:\tlearn: 2272.0319833\ttotal: 4.84s\tremaining: 52.1s\n",
      "85:\tlearn: 2267.2381719\ttotal: 4.94s\tremaining: 52.5s\n",
      "86:\tlearn: 2263.5040988\ttotal: 5.01s\tremaining: 52.6s\n",
      "87:\tlearn: 2257.7753391\ttotal: 5.11s\tremaining: 52.9s\n",
      "88:\tlearn: 2254.5925387\ttotal: 5.18s\tremaining: 53.1s\n",
      "89:\tlearn: 2245.9020266\ttotal: 5.24s\tremaining: 53s\n",
      "90:\tlearn: 2237.7367869\ttotal: 5.36s\tremaining: 53.6s\n",
      "91:\tlearn: 2230.7632511\ttotal: 5.46s\tremaining: 53.9s\n",
      "92:\tlearn: 2224.9969073\ttotal: 5.51s\tremaining: 53.8s\n",
      "93:\tlearn: 2218.4220150\ttotal: 5.61s\tremaining: 54.1s\n",
      "94:\tlearn: 2211.7750783\ttotal: 5.71s\tremaining: 54.4s\n",
      "95:\tlearn: 2208.4323659\ttotal: 5.79s\tremaining: 54.5s\n",
      "96:\tlearn: 2205.4504429\ttotal: 5.85s\tremaining: 54.5s\n",
      "97:\tlearn: 2198.5463388\ttotal: 5.92s\tremaining: 54.5s\n",
      "98:\tlearn: 2194.7276550\ttotal: 6s\tremaining: 54.6s\n",
      "99:\tlearn: 2192.1799542\ttotal: 6.11s\tremaining: 55s\n",
      "100:\tlearn: 2188.2605067\ttotal: 6.25s\tremaining: 55.6s\n",
      "101:\tlearn: 2185.2399671\ttotal: 6.32s\tremaining: 55.6s\n",
      "102:\tlearn: 2180.3111335\ttotal: 6.4s\tremaining: 55.8s\n",
      "103:\tlearn: 2176.5753227\ttotal: 6.49s\tremaining: 55.9s\n",
      "104:\tlearn: 2172.9988978\ttotal: 6.53s\tremaining: 55.7s\n",
      "105:\tlearn: 2166.2233111\ttotal: 6.59s\tremaining: 55.6s\n",
      "106:\tlearn: 2160.0519410\ttotal: 6.66s\tremaining: 55.5s\n",
      "107:\tlearn: 2155.1610366\ttotal: 6.69s\tremaining: 55.3s\n",
      "108:\tlearn: 2152.2891240\ttotal: 6.73s\tremaining: 55s\n",
      "109:\tlearn: 2149.6610433\ttotal: 6.78s\tremaining: 54.9s\n",
      "110:\tlearn: 2145.6288478\ttotal: 6.85s\tremaining: 54.9s\n",
      "111:\tlearn: 2141.4339952\ttotal: 6.9s\tremaining: 54.7s\n",
      "112:\tlearn: 2135.6459899\ttotal: 6.95s\tremaining: 54.5s\n",
      "113:\tlearn: 2131.9659484\ttotal: 7s\tremaining: 54.4s\n",
      "114:\tlearn: 2128.5671366\ttotal: 7.04s\tremaining: 54.2s\n",
      "115:\tlearn: 2123.8025134\ttotal: 7.08s\tremaining: 54s\n",
      "116:\tlearn: 2121.1009258\ttotal: 7.13s\tremaining: 53.8s\n",
      "117:\tlearn: 2116.3175819\ttotal: 7.17s\tremaining: 53.6s\n",
      "118:\tlearn: 2113.9217777\ttotal: 7.22s\tremaining: 53.5s\n",
      "119:\tlearn: 2111.1750631\ttotal: 7.27s\tremaining: 53.3s\n",
      "120:\tlearn: 2107.3570998\ttotal: 7.31s\tremaining: 53.1s\n",
      "121:\tlearn: 2105.4348034\ttotal: 7.34s\tremaining: 52.8s\n",
      "122:\tlearn: 2102.9387599\ttotal: 7.42s\tremaining: 52.9s\n",
      "123:\tlearn: 2101.2579613\ttotal: 7.48s\tremaining: 52.9s\n",
      "124:\tlearn: 2096.8470356\ttotal: 7.54s\tremaining: 52.8s\n",
      "125:\tlearn: 2094.1150810\ttotal: 7.6s\tremaining: 52.7s\n",
      "126:\tlearn: 2089.8363163\ttotal: 7.64s\tremaining: 52.6s\n",
      "127:\tlearn: 2087.8624415\ttotal: 7.68s\tremaining: 52.3s\n",
      "128:\tlearn: 2084.9452658\ttotal: 7.72s\tremaining: 52.1s\n",
      "129:\tlearn: 2081.5892251\ttotal: 7.76s\tremaining: 51.9s\n",
      "130:\tlearn: 2077.9489595\ttotal: 7.8s\tremaining: 51.8s\n",
      "131:\tlearn: 2074.7214265\ttotal: 7.85s\tremaining: 51.6s\n",
      "132:\tlearn: 2072.3919792\ttotal: 7.88s\tremaining: 51.4s\n",
      "133:\tlearn: 2068.8930369\ttotal: 7.92s\tremaining: 51.2s\n",
      "134:\tlearn: 2066.7948599\ttotal: 7.96s\tremaining: 51s\n",
      "135:\tlearn: 2065.2978179\ttotal: 8.01s\tremaining: 50.9s\n",
      "136:\tlearn: 2062.3006514\ttotal: 8.07s\tremaining: 50.8s\n",
      "137:\tlearn: 2059.3933182\ttotal: 8.11s\tremaining: 50.6s\n",
      "138:\tlearn: 2057.1290565\ttotal: 8.15s\tremaining: 50.5s\n",
      "139:\tlearn: 2054.9965149\ttotal: 8.19s\tremaining: 50.3s\n",
      "140:\tlearn: 2052.1316899\ttotal: 8.25s\tremaining: 50.2s\n",
      "141:\tlearn: 2049.9964599\ttotal: 8.29s\tremaining: 50.1s\n",
      "142:\tlearn: 2047.8376478\ttotal: 8.32s\tremaining: 49.9s\n",
      "143:\tlearn: 2045.2825525\ttotal: 8.36s\tremaining: 49.7s\n",
      "144:\tlearn: 2043.5607113\ttotal: 8.43s\tremaining: 49.7s\n",
      "145:\tlearn: 2041.9058303\ttotal: 8.46s\tremaining: 49.5s\n",
      "146:\tlearn: 2037.2320167\ttotal: 8.5s\tremaining: 49.3s\n",
      "147:\tlearn: 2034.7494251\ttotal: 8.54s\tremaining: 49.1s\n",
      "148:\tlearn: 2030.8776455\ttotal: 8.59s\tremaining: 49s\n",
      "149:\tlearn: 2029.4909018\ttotal: 8.65s\tremaining: 49s\n",
      "150:\tlearn: 2027.3552489\ttotal: 8.71s\tremaining: 49s\n",
      "151:\tlearn: 2024.7015949\ttotal: 8.78s\tremaining: 49s\n"
     ]
    },
    {
     "name": "stdout",
     "output_type": "stream",
     "text": [
      "152:\tlearn: 2023.0398022\ttotal: 8.83s\tremaining: 48.9s\n",
      "153:\tlearn: 2021.7725606\ttotal: 8.88s\tremaining: 48.8s\n",
      "154:\tlearn: 2020.4024959\ttotal: 8.91s\tremaining: 48.6s\n",
      "155:\tlearn: 2018.4819221\ttotal: 8.95s\tremaining: 48.4s\n",
      "156:\tlearn: 2016.3129082\ttotal: 8.99s\tremaining: 48.3s\n",
      "157:\tlearn: 2013.7370156\ttotal: 9.04s\tremaining: 48.2s\n",
      "158:\tlearn: 2011.7627730\ttotal: 9.08s\tremaining: 48s\n",
      "159:\tlearn: 2010.4858141\ttotal: 9.12s\tremaining: 47.9s\n",
      "160:\tlearn: 2007.7158046\ttotal: 9.15s\tremaining: 47.7s\n",
      "161:\tlearn: 2004.5902458\ttotal: 9.19s\tremaining: 47.5s\n",
      "162:\tlearn: 2002.4889802\ttotal: 9.23s\tremaining: 47.4s\n",
      "163:\tlearn: 2001.1092279\ttotal: 9.28s\tremaining: 47.3s\n",
      "164:\tlearn: 1999.0903476\ttotal: 9.32s\tremaining: 47.2s\n",
      "165:\tlearn: 1997.9874664\ttotal: 9.36s\tremaining: 47s\n",
      "166:\tlearn: 1996.1078727\ttotal: 9.4s\tremaining: 46.9s\n",
      "167:\tlearn: 1993.9757218\ttotal: 9.45s\tremaining: 46.8s\n",
      "168:\tlearn: 1992.1781249\ttotal: 9.48s\tremaining: 46.6s\n",
      "169:\tlearn: 1988.9832523\ttotal: 9.52s\tremaining: 46.5s\n",
      "170:\tlearn: 1987.9946043\ttotal: 9.56s\tremaining: 46.4s\n",
      "171:\tlearn: 1984.8092306\ttotal: 9.6s\tremaining: 46.2s\n",
      "172:\tlearn: 1982.6680166\ttotal: 9.65s\tremaining: 46.1s\n",
      "173:\tlearn: 1980.6221959\ttotal: 9.69s\tremaining: 46s\n",
      "174:\tlearn: 1979.1429964\ttotal: 9.73s\tremaining: 45.9s\n",
      "175:\tlearn: 1977.9102061\ttotal: 9.77s\tremaining: 45.7s\n",
      "176:\tlearn: 1976.4005123\ttotal: 9.82s\tremaining: 45.6s\n",
      "177:\tlearn: 1974.1070758\ttotal: 9.9s\tremaining: 45.7s\n",
      "178:\tlearn: 1972.7614080\ttotal: 9.96s\tremaining: 45.7s\n",
      "179:\tlearn: 1970.9130693\ttotal: 10s\tremaining: 45.6s\n",
      "180:\tlearn: 1969.8926334\ttotal: 10.1s\tremaining: 45.6s\n",
      "181:\tlearn: 1968.4109059\ttotal: 10.1s\tremaining: 45.5s\n",
      "182:\tlearn: 1967.2434891\ttotal: 10.2s\tremaining: 45.3s\n",
      "183:\tlearn: 1965.7048875\ttotal: 10.2s\tremaining: 45.2s\n",
      "184:\tlearn: 1964.1272695\ttotal: 10.2s\tremaining: 45.1s\n",
      "185:\tlearn: 1962.5895627\ttotal: 10.3s\tremaining: 45s\n",
      "186:\tlearn: 1961.1343754\ttotal: 10.3s\tremaining: 44.9s\n",
      "187:\tlearn: 1959.5796073\ttotal: 10.4s\tremaining: 44.8s\n",
      "188:\tlearn: 1957.7228592\ttotal: 10.4s\tremaining: 44.6s\n",
      "189:\tlearn: 1956.7105172\ttotal: 10.4s\tremaining: 44.5s\n",
      "190:\tlearn: 1955.4075066\ttotal: 10.5s\tremaining: 44.4s\n",
      "191:\tlearn: 1954.5607275\ttotal: 10.5s\tremaining: 44.3s\n",
      "192:\tlearn: 1953.0772562\ttotal: 10.6s\tremaining: 44.2s\n",
      "193:\tlearn: 1950.9880734\ttotal: 10.6s\tremaining: 44.1s\n",
      "194:\tlearn: 1949.4760503\ttotal: 10.7s\tremaining: 44s\n",
      "195:\tlearn: 1947.1424872\ttotal: 10.7s\tremaining: 43.9s\n",
      "196:\tlearn: 1946.2070544\ttotal: 10.7s\tremaining: 43.8s\n",
      "197:\tlearn: 1942.8213370\ttotal: 10.8s\tremaining: 43.7s\n",
      "198:\tlearn: 1941.9999641\ttotal: 10.8s\tremaining: 43.5s\n",
      "199:\tlearn: 1940.8355078\ttotal: 10.9s\tremaining: 43.5s\n",
      "200:\tlearn: 1939.2335232\ttotal: 10.9s\tremaining: 43.4s\n",
      "201:\tlearn: 1938.1542749\ttotal: 10.9s\tremaining: 43.2s\n",
      "202:\tlearn: 1936.3408521\ttotal: 11s\tremaining: 43.1s\n",
      "203:\tlearn: 1934.7898141\ttotal: 11s\tremaining: 43s\n",
      "204:\tlearn: 1934.2007015\ttotal: 11.1s\tremaining: 43s\n",
      "205:\tlearn: 1932.1346225\ttotal: 11.1s\tremaining: 42.9s\n",
      "206:\tlearn: 1930.0606058\ttotal: 11.2s\tremaining: 42.8s\n",
      "207:\tlearn: 1929.4560128\ttotal: 11.2s\tremaining: 42.8s\n",
      "208:\tlearn: 1928.3711919\ttotal: 11.3s\tremaining: 42.8s\n",
      "209:\tlearn: 1927.3195263\ttotal: 11.3s\tremaining: 42.7s\n",
      "210:\tlearn: 1925.8162450\ttotal: 11.4s\tremaining: 42.6s\n",
      "211:\tlearn: 1925.1795979\ttotal: 11.4s\tremaining: 42.5s\n",
      "212:\tlearn: 1923.7512010\ttotal: 11.5s\tremaining: 42.4s\n",
      "213:\tlearn: 1922.3615598\ttotal: 11.5s\tremaining: 42.4s\n",
      "214:\tlearn: 1921.1956611\ttotal: 11.6s\tremaining: 42.2s\n",
      "215:\tlearn: 1920.5720270\ttotal: 11.6s\tremaining: 42.1s\n",
      "216:\tlearn: 1918.8743485\ttotal: 11.7s\tremaining: 42s\n",
      "217:\tlearn: 1917.2213201\ttotal: 11.7s\tremaining: 42s\n",
      "218:\tlearn: 1915.2494346\ttotal: 11.7s\tremaining: 41.9s\n",
      "219:\tlearn: 1914.5347192\ttotal: 11.8s\tremaining: 41.8s\n",
      "220:\tlearn: 1914.0097492\ttotal: 11.8s\tremaining: 41.6s\n",
      "221:\tlearn: 1913.4131472\ttotal: 11.9s\tremaining: 41.5s\n",
      "222:\tlearn: 1912.2810605\ttotal: 11.9s\tremaining: 41.5s\n",
      "223:\tlearn: 1911.7520733\ttotal: 12s\tremaining: 41.4s\n",
      "224:\tlearn: 1910.5253093\ttotal: 12s\tremaining: 41.3s\n",
      "225:\tlearn: 1909.5641153\ttotal: 12s\tremaining: 41.2s\n",
      "226:\tlearn: 1908.9748180\ttotal: 12.1s\tremaining: 41.1s\n",
      "227:\tlearn: 1907.3735302\ttotal: 12.1s\tremaining: 41.1s\n",
      "228:\tlearn: 1905.6285668\ttotal: 12.2s\tremaining: 41s\n",
      "229:\tlearn: 1904.5952049\ttotal: 12.2s\tremaining: 40.9s\n",
      "230:\tlearn: 1903.7149319\ttotal: 12.2s\tremaining: 40.8s\n",
      "231:\tlearn: 1902.8062987\ttotal: 12.3s\tremaining: 40.7s\n",
      "232:\tlearn: 1901.9900829\ttotal: 12.3s\tremaining: 40.7s\n",
      "233:\tlearn: 1900.7964435\ttotal: 12.4s\tremaining: 40.6s\n",
      "234:\tlearn: 1900.1508727\ttotal: 12.5s\tremaining: 40.6s\n",
      "235:\tlearn: 1899.4629731\ttotal: 12.5s\tremaining: 40.6s\n",
      "236:\tlearn: 1896.2982234\ttotal: 12.6s\tremaining: 40.5s\n",
      "237:\tlearn: 1894.3310557\ttotal: 12.6s\tremaining: 40.5s\n",
      "238:\tlearn: 1893.5571248\ttotal: 12.7s\tremaining: 40.4s\n",
      "239:\tlearn: 1892.9084147\ttotal: 12.7s\tremaining: 40.3s\n",
      "240:\tlearn: 1891.6628938\ttotal: 12.8s\tremaining: 40.2s\n",
      "241:\tlearn: 1890.2999207\ttotal: 12.8s\tremaining: 40.2s\n",
      "242:\tlearn: 1889.8485912\ttotal: 12.9s\tremaining: 40.1s\n",
      "243:\tlearn: 1889.3030453\ttotal: 12.9s\tremaining: 40s\n",
      "244:\tlearn: 1887.7888127\ttotal: 13s\tremaining: 39.9s\n",
      "245:\tlearn: 1886.2741344\ttotal: 13s\tremaining: 39.8s\n",
      "246:\tlearn: 1885.2942740\ttotal: 13s\tremaining: 39.7s\n",
      "247:\tlearn: 1883.6452218\ttotal: 13.1s\tremaining: 39.6s\n",
      "248:\tlearn: 1882.9072068\ttotal: 13.1s\tremaining: 39.5s\n",
      "249:\tlearn: 1881.8051765\ttotal: 13.2s\tremaining: 39.5s\n",
      "250:\tlearn: 1881.4411831\ttotal: 13.2s\tremaining: 39.4s\n",
      "251:\tlearn: 1880.4517030\ttotal: 13.2s\tremaining: 39.3s\n",
      "252:\tlearn: 1879.6539137\ttotal: 13.3s\tremaining: 39.2s\n",
      "253:\tlearn: 1879.3608097\ttotal: 13.3s\tremaining: 39.2s\n",
      "254:\tlearn: 1878.2775191\ttotal: 13.4s\tremaining: 39.1s\n",
      "255:\tlearn: 1876.7410938\ttotal: 13.4s\tremaining: 39s\n",
      "256:\tlearn: 1875.8730293\ttotal: 13.5s\tremaining: 38.9s\n",
      "257:\tlearn: 1874.3660421\ttotal: 13.5s\tremaining: 38.9s\n",
      "258:\tlearn: 1873.6291486\ttotal: 13.6s\tremaining: 38.8s\n",
      "259:\tlearn: 1872.8646409\ttotal: 13.6s\tremaining: 38.8s\n",
      "260:\tlearn: 1871.9263425\ttotal: 13.7s\tremaining: 38.8s\n",
      "261:\tlearn: 1871.0033149\ttotal: 13.8s\tremaining: 38.8s\n",
      "262:\tlearn: 1869.9606640\ttotal: 13.8s\tremaining: 38.8s\n",
      "263:\tlearn: 1869.2806835\ttotal: 13.9s\tremaining: 38.7s\n",
      "264:\tlearn: 1868.3811846\ttotal: 13.9s\tremaining: 38.6s\n",
      "265:\tlearn: 1867.9014662\ttotal: 14s\tremaining: 38.6s\n",
      "266:\tlearn: 1866.5971658\ttotal: 14s\tremaining: 38.5s\n",
      "267:\tlearn: 1865.9810327\ttotal: 14.1s\tremaining: 38.4s\n",
      "268:\tlearn: 1865.3829783\ttotal: 14.1s\tremaining: 38.3s\n",
      "269:\tlearn: 1863.8916127\ttotal: 14.2s\tremaining: 38.3s\n",
      "270:\tlearn: 1863.6492798\ttotal: 14.2s\tremaining: 38.2s\n",
      "271:\tlearn: 1863.2273284\ttotal: 14.2s\tremaining: 38.1s\n",
      "272:\tlearn: 1862.6072193\ttotal: 14.3s\tremaining: 38s\n",
      "273:\tlearn: 1862.0808769\ttotal: 14.3s\tremaining: 38s\n",
      "274:\tlearn: 1860.9602369\ttotal: 14.4s\tremaining: 37.9s\n",
      "275:\tlearn: 1860.0312230\ttotal: 14.4s\tremaining: 37.8s\n",
      "276:\tlearn: 1859.7718340\ttotal: 14.5s\tremaining: 37.8s\n",
      "277:\tlearn: 1858.5031273\ttotal: 14.5s\tremaining: 37.7s\n",
      "278:\tlearn: 1857.7413830\ttotal: 14.6s\tremaining: 37.6s\n",
      "279:\tlearn: 1857.1771139\ttotal: 14.6s\tremaining: 37.6s\n",
      "280:\tlearn: 1856.9688616\ttotal: 14.6s\tremaining: 37.5s\n",
      "281:\tlearn: 1856.7491684\ttotal: 14.7s\tremaining: 37.4s\n",
      "282:\tlearn: 1856.1408127\ttotal: 14.7s\tremaining: 37.4s\n",
      "283:\tlearn: 1854.4520010\ttotal: 14.8s\tremaining: 37.3s\n",
      "284:\tlearn: 1854.0709116\ttotal: 14.8s\tremaining: 37.3s\n",
      "285:\tlearn: 1853.5074572\ttotal: 14.9s\tremaining: 37.2s\n",
      "286:\tlearn: 1852.9791670\ttotal: 15s\tremaining: 37.2s\n",
      "287:\tlearn: 1851.1912276\ttotal: 15s\tremaining: 37.2s\n",
      "288:\tlearn: 1850.6513470\ttotal: 15.1s\tremaining: 37.2s\n",
      "289:\tlearn: 1850.3348066\ttotal: 15.2s\tremaining: 37.1s\n",
      "290:\tlearn: 1849.8354252\ttotal: 15.2s\tremaining: 37s\n",
      "291:\tlearn: 1849.6136675\ttotal: 15.2s\tremaining: 37s\n",
      "292:\tlearn: 1848.5998291\ttotal: 15.3s\tremaining: 36.9s\n",
      "293:\tlearn: 1844.9879762\ttotal: 15.3s\tremaining: 36.8s\n",
      "294:\tlearn: 1843.8656852\ttotal: 15.4s\tremaining: 36.8s\n",
      "295:\tlearn: 1842.6229057\ttotal: 15.4s\tremaining: 36.7s\n",
      "296:\tlearn: 1841.7323310\ttotal: 15.5s\tremaining: 36.6s\n",
      "297:\tlearn: 1841.5628203\ttotal: 15.5s\tremaining: 36.5s\n",
      "298:\tlearn: 1838.2438628\ttotal: 15.5s\tremaining: 36.4s\n",
      "299:\tlearn: 1837.5086170\ttotal: 15.6s\tremaining: 36.4s\n",
      "300:\tlearn: 1836.9763371\ttotal: 15.6s\tremaining: 36.3s\n",
      "301:\tlearn: 1836.6587607\ttotal: 15.7s\tremaining: 36.2s\n",
      "302:\tlearn: 1836.5153676\ttotal: 15.7s\tremaining: 36.1s\n",
      "303:\tlearn: 1834.8123717\ttotal: 15.8s\tremaining: 36.1s\n",
      "304:\tlearn: 1834.1322832\ttotal: 15.8s\tremaining: 36s\n"
     ]
    },
    {
     "name": "stdout",
     "output_type": "stream",
     "text": [
      "305:\tlearn: 1833.5693786\ttotal: 15.8s\tremaining: 35.9s\n",
      "306:\tlearn: 1832.7845310\ttotal: 15.9s\tremaining: 35.9s\n",
      "307:\tlearn: 1831.7288878\ttotal: 15.9s\tremaining: 35.8s\n",
      "308:\tlearn: 1831.5178929\ttotal: 16s\tremaining: 35.7s\n",
      "309:\tlearn: 1831.1866188\ttotal: 16s\tremaining: 35.6s\n",
      "310:\tlearn: 1830.8333008\ttotal: 16.1s\tremaining: 35.6s\n",
      "311:\tlearn: 1830.2529201\ttotal: 16.1s\tremaining: 35.6s\n",
      "312:\tlearn: 1829.7387742\ttotal: 16.2s\tremaining: 35.6s\n",
      "313:\tlearn: 1829.5342664\ttotal: 16.3s\tremaining: 35.5s\n",
      "314:\tlearn: 1829.3934214\ttotal: 16.3s\tremaining: 35.5s\n",
      "315:\tlearn: 1828.0097522\ttotal: 16.4s\tremaining: 35.4s\n",
      "316:\tlearn: 1827.3404272\ttotal: 16.4s\tremaining: 35.4s\n",
      "317:\tlearn: 1826.2571560\ttotal: 16.5s\tremaining: 35.3s\n",
      "318:\tlearn: 1824.7668463\ttotal: 16.5s\tremaining: 35.2s\n",
      "319:\tlearn: 1822.8326956\ttotal: 16.5s\tremaining: 35.2s\n",
      "320:\tlearn: 1822.4863549\ttotal: 16.6s\tremaining: 35.1s\n",
      "321:\tlearn: 1822.0793103\ttotal: 16.6s\tremaining: 35s\n",
      "322:\tlearn: 1821.5121274\ttotal: 16.7s\tremaining: 34.9s\n",
      "323:\tlearn: 1820.1107157\ttotal: 16.7s\tremaining: 34.9s\n",
      "324:\tlearn: 1819.5922923\ttotal: 16.8s\tremaining: 34.8s\n",
      "325:\tlearn: 1819.2052051\ttotal: 16.8s\tremaining: 34.7s\n",
      "326:\tlearn: 1818.6832703\ttotal: 16.8s\tremaining: 34.6s\n",
      "327:\tlearn: 1817.9718694\ttotal: 16.9s\tremaining: 34.6s\n",
      "328:\tlearn: 1817.7184214\ttotal: 16.9s\tremaining: 34.5s\n",
      "329:\tlearn: 1817.1947473\ttotal: 17s\tremaining: 34.5s\n",
      "330:\tlearn: 1815.9052633\ttotal: 17s\tremaining: 34.4s\n",
      "331:\tlearn: 1815.7836609\ttotal: 17.1s\tremaining: 34.3s\n",
      "332:\tlearn: 1815.5863822\ttotal: 17.1s\tremaining: 34.2s\n",
      "333:\tlearn: 1815.0737683\ttotal: 17.1s\tremaining: 34.2s\n",
      "334:\tlearn: 1814.6734370\ttotal: 17.2s\tremaining: 34.1s\n",
      "335:\tlearn: 1813.4750999\ttotal: 17.2s\tremaining: 34s\n",
      "336:\tlearn: 1813.0773620\ttotal: 17.3s\tremaining: 34s\n",
      "337:\tlearn: 1812.8188955\ttotal: 17.3s\tremaining: 33.9s\n",
      "338:\tlearn: 1812.1256722\ttotal: 17.4s\tremaining: 33.9s\n",
      "339:\tlearn: 1811.6154273\ttotal: 17.4s\tremaining: 33.9s\n",
      "340:\tlearn: 1811.2428282\ttotal: 17.5s\tremaining: 33.9s\n",
      "341:\tlearn: 1810.2679383\ttotal: 17.6s\tremaining: 33.8s\n",
      "342:\tlearn: 1809.4028534\ttotal: 17.6s\tremaining: 33.7s\n",
      "343:\tlearn: 1809.1269859\ttotal: 17.6s\tremaining: 33.6s\n",
      "344:\tlearn: 1807.9994367\ttotal: 17.7s\tremaining: 33.6s\n",
      "345:\tlearn: 1807.5528700\ttotal: 17.7s\tremaining: 33.5s\n",
      "346:\tlearn: 1807.2783697\ttotal: 17.8s\tremaining: 33.4s\n",
      "347:\tlearn: 1806.4913338\ttotal: 17.8s\tremaining: 33.4s\n",
      "348:\tlearn: 1806.1562966\ttotal: 17.8s\tremaining: 33.3s\n",
      "349:\tlearn: 1803.8409691\ttotal: 17.9s\tremaining: 33.2s\n",
      "350:\tlearn: 1803.2213649\ttotal: 17.9s\tremaining: 33.2s\n",
      "351:\tlearn: 1802.6059411\ttotal: 18s\tremaining: 33.1s\n",
      "352:\tlearn: 1802.1061831\ttotal: 18s\tremaining: 33s\n",
      "353:\tlearn: 1801.8919448\ttotal: 18.1s\tremaining: 33s\n",
      "354:\tlearn: 1801.3609647\ttotal: 18.1s\tremaining: 32.9s\n",
      "355:\tlearn: 1801.1834700\ttotal: 18.1s\tremaining: 32.8s\n",
      "356:\tlearn: 1800.6832140\ttotal: 18.2s\tremaining: 32.8s\n",
      "357:\tlearn: 1800.4653473\ttotal: 18.2s\tremaining: 32.7s\n",
      "358:\tlearn: 1800.3449493\ttotal: 18.3s\tremaining: 32.6s\n",
      "359:\tlearn: 1800.0100940\ttotal: 18.3s\tremaining: 32.5s\n",
      "360:\tlearn: 1799.0548931\ttotal: 18.3s\tremaining: 32.5s\n",
      "361:\tlearn: 1796.7386416\ttotal: 18.4s\tremaining: 32.4s\n",
      "362:\tlearn: 1796.3232802\ttotal: 18.4s\tremaining: 32.4s\n",
      "363:\tlearn: 1796.0646953\ttotal: 18.5s\tremaining: 32.3s\n",
      "364:\tlearn: 1795.9466397\ttotal: 18.5s\tremaining: 32.2s\n",
      "365:\tlearn: 1795.4228437\ttotal: 18.6s\tremaining: 32.2s\n",
      "366:\tlearn: 1795.2185693\ttotal: 18.6s\tremaining: 32.2s\n",
      "367:\tlearn: 1794.5621120\ttotal: 18.7s\tremaining: 32.1s\n",
      "368:\tlearn: 1794.2801926\ttotal: 18.8s\tremaining: 32.1s\n",
      "369:\tlearn: 1793.3646243\ttotal: 18.8s\tremaining: 32.1s\n",
      "370:\tlearn: 1792.8540226\ttotal: 18.9s\tremaining: 32s\n",
      "371:\tlearn: 1792.4181701\ttotal: 18.9s\tremaining: 31.9s\n",
      "372:\tlearn: 1791.0836366\ttotal: 19s\tremaining: 31.9s\n",
      "373:\tlearn: 1790.5616553\ttotal: 19s\tremaining: 31.8s\n",
      "374:\tlearn: 1790.0521226\ttotal: 19.1s\tremaining: 31.8s\n",
      "375:\tlearn: 1789.5034617\ttotal: 19.1s\tremaining: 31.7s\n",
      "376:\tlearn: 1788.9487639\ttotal: 19.1s\tremaining: 31.6s\n",
      "377:\tlearn: 1787.8085820\ttotal: 19.2s\tremaining: 31.6s\n",
      "378:\tlearn: 1786.4042071\ttotal: 19.2s\tremaining: 31.5s\n",
      "379:\tlearn: 1786.3151120\ttotal: 19.3s\tremaining: 31.5s\n",
      "380:\tlearn: 1785.7391535\ttotal: 19.3s\tremaining: 31.4s\n",
      "381:\tlearn: 1785.3162523\ttotal: 19.4s\tremaining: 31.3s\n",
      "382:\tlearn: 1784.9260573\ttotal: 19.4s\tremaining: 31.3s\n",
      "383:\tlearn: 1784.8178240\ttotal: 19.4s\tremaining: 31.2s\n",
      "384:\tlearn: 1784.6622543\ttotal: 19.5s\tremaining: 31.1s\n",
      "385:\tlearn: 1784.5259759\ttotal: 19.5s\tremaining: 31.1s\n",
      "386:\tlearn: 1783.6730730\ttotal: 19.6s\tremaining: 31s\n",
      "387:\tlearn: 1783.5660558\ttotal: 19.6s\tremaining: 30.9s\n",
      "388:\tlearn: 1783.4390853\ttotal: 19.7s\tremaining: 30.9s\n",
      "389:\tlearn: 1783.2339905\ttotal: 19.7s\tremaining: 30.8s\n",
      "390:\tlearn: 1783.0847158\ttotal: 19.7s\tremaining: 30.7s\n",
      "391:\tlearn: 1782.5780782\ttotal: 19.8s\tremaining: 30.7s\n",
      "392:\tlearn: 1781.8116128\ttotal: 19.8s\tremaining: 30.7s\n",
      "393:\tlearn: 1781.0855782\ttotal: 19.9s\tremaining: 30.6s\n",
      "394:\tlearn: 1780.0430085\ttotal: 20s\tremaining: 30.6s\n",
      "395:\tlearn: 1779.1175853\ttotal: 20s\tremaining: 30.5s\n",
      "396:\tlearn: 1778.6648004\ttotal: 20.1s\tremaining: 30.5s\n",
      "397:\tlearn: 1778.0485667\ttotal: 20.1s\tremaining: 30.4s\n",
      "398:\tlearn: 1777.6166617\ttotal: 20.1s\tremaining: 30.3s\n",
      "399:\tlearn: 1777.3709031\ttotal: 20.2s\tremaining: 30.3s\n",
      "400:\tlearn: 1776.8652222\ttotal: 20.2s\tremaining: 30.2s\n",
      "401:\tlearn: 1776.3495677\ttotal: 20.3s\tremaining: 30.2s\n",
      "402:\tlearn: 1775.5151499\ttotal: 20.3s\tremaining: 30.1s\n",
      "403:\tlearn: 1775.3710343\ttotal: 20.4s\tremaining: 30s\n",
      "404:\tlearn: 1775.0765633\ttotal: 20.4s\tremaining: 30s\n",
      "405:\tlearn: 1774.8994537\ttotal: 20.4s\tremaining: 29.9s\n",
      "406:\tlearn: 1774.8381981\ttotal: 20.5s\tremaining: 29.9s\n",
      "407:\tlearn: 1774.5711670\ttotal: 20.5s\tremaining: 29.8s\n",
      "408:\tlearn: 1774.2924931\ttotal: 20.6s\tremaining: 29.7s\n",
      "409:\tlearn: 1773.6859207\ttotal: 20.6s\tremaining: 29.7s\n",
      "410:\tlearn: 1773.2971543\ttotal: 20.7s\tremaining: 29.6s\n",
      "411:\tlearn: 1772.7257170\ttotal: 20.7s\tremaining: 29.5s\n",
      "412:\tlearn: 1772.0905076\ttotal: 20.7s\tremaining: 29.5s\n",
      "413:\tlearn: 1771.9014885\ttotal: 20.8s\tremaining: 29.4s\n",
      "414:\tlearn: 1771.3670160\ttotal: 20.8s\tremaining: 29.4s\n",
      "415:\tlearn: 1770.9892045\ttotal: 20.9s\tremaining: 29.3s\n",
      "416:\tlearn: 1770.2807927\ttotal: 20.9s\tremaining: 29.2s\n",
      "417:\tlearn: 1769.7692752\ttotal: 20.9s\tremaining: 29.2s\n",
      "418:\tlearn: 1769.4446864\ttotal: 21s\tremaining: 29.1s\n",
      "419:\tlearn: 1769.2450798\ttotal: 21.1s\tremaining: 29.1s\n",
      "420:\tlearn: 1769.0215076\ttotal: 21.1s\tremaining: 29.1s\n",
      "421:\tlearn: 1767.8069245\ttotal: 21.2s\tremaining: 29s\n",
      "422:\tlearn: 1767.1258726\ttotal: 21.2s\tremaining: 29s\n",
      "423:\tlearn: 1766.8659206\ttotal: 21.3s\tremaining: 28.9s\n",
      "424:\tlearn: 1766.5542216\ttotal: 21.3s\tremaining: 28.8s\n",
      "425:\tlearn: 1765.7856961\ttotal: 21.4s\tremaining: 28.8s\n",
      "426:\tlearn: 1765.6493235\ttotal: 21.4s\tremaining: 28.7s\n",
      "427:\tlearn: 1765.0693819\ttotal: 21.4s\tremaining: 28.6s\n",
      "428:\tlearn: 1764.8399990\ttotal: 21.5s\tremaining: 28.6s\n",
      "429:\tlearn: 1764.6899052\ttotal: 21.5s\tremaining: 28.5s\n",
      "430:\tlearn: 1764.5380461\ttotal: 21.6s\tremaining: 28.5s\n",
      "431:\tlearn: 1764.0215227\ttotal: 21.6s\tremaining: 28.4s\n",
      "432:\tlearn: 1763.6451707\ttotal: 21.6s\tremaining: 28.3s\n",
      "433:\tlearn: 1763.4089027\ttotal: 21.7s\tremaining: 28.3s\n",
      "434:\tlearn: 1763.0983822\ttotal: 21.7s\tremaining: 28.2s\n",
      "435:\tlearn: 1761.9027518\ttotal: 21.8s\tremaining: 28.2s\n",
      "436:\tlearn: 1761.5863346\ttotal: 21.8s\tremaining: 28.1s\n",
      "437:\tlearn: 1761.1132220\ttotal: 21.9s\tremaining: 28s\n",
      "438:\tlearn: 1760.7797020\ttotal: 21.9s\tremaining: 28s\n",
      "439:\tlearn: 1760.5617701\ttotal: 21.9s\tremaining: 27.9s\n",
      "440:\tlearn: 1759.9934433\ttotal: 22s\tremaining: 27.9s\n",
      "441:\tlearn: 1759.6764630\ttotal: 22s\tremaining: 27.8s\n",
      "442:\tlearn: 1758.9552632\ttotal: 22.1s\tremaining: 27.8s\n",
      "443:\tlearn: 1758.5367763\ttotal: 22.1s\tremaining: 27.7s\n",
      "444:\tlearn: 1758.2320141\ttotal: 22.2s\tremaining: 27.6s\n",
      "445:\tlearn: 1757.7322034\ttotal: 22.2s\tremaining: 27.6s\n",
      "446:\tlearn: 1757.2622234\ttotal: 22.3s\tremaining: 27.6s\n",
      "447:\tlearn: 1757.1098844\ttotal: 22.4s\tremaining: 27.6s\n",
      "448:\tlearn: 1756.4188629\ttotal: 22.4s\tremaining: 27.5s\n",
      "449:\tlearn: 1756.1346077\ttotal: 22.5s\tremaining: 27.5s\n",
      "450:\tlearn: 1755.8422715\ttotal: 22.5s\tremaining: 27.4s\n",
      "451:\tlearn: 1755.2480419\ttotal: 22.6s\tremaining: 27.4s\n",
      "452:\tlearn: 1754.2433214\ttotal: 22.6s\tremaining: 27.3s\n",
      "453:\tlearn: 1753.1522954\ttotal: 22.6s\tremaining: 27.2s\n",
      "454:\tlearn: 1753.0305487\ttotal: 22.7s\tremaining: 27.2s\n",
      "455:\tlearn: 1752.7960954\ttotal: 22.7s\tremaining: 27.1s\n",
      "456:\tlearn: 1752.5869490\ttotal: 22.8s\tremaining: 27.1s\n",
      "457:\tlearn: 1751.9020395\ttotal: 22.8s\tremaining: 27s\n",
      "458:\tlearn: 1751.4082487\ttotal: 22.8s\tremaining: 26.9s\n"
     ]
    },
    {
     "name": "stdout",
     "output_type": "stream",
     "text": [
      "459:\tlearn: 1750.5147037\ttotal: 22.9s\tremaining: 26.9s\n",
      "460:\tlearn: 1750.1481704\ttotal: 22.9s\tremaining: 26.8s\n",
      "461:\tlearn: 1749.9756159\ttotal: 23s\tremaining: 26.8s\n",
      "462:\tlearn: 1749.1504823\ttotal: 23s\tremaining: 26.7s\n",
      "463:\tlearn: 1748.9579281\ttotal: 23.1s\tremaining: 26.6s\n",
      "464:\tlearn: 1748.8247710\ttotal: 23.1s\tremaining: 26.6s\n",
      "465:\tlearn: 1748.5316340\ttotal: 23.1s\tremaining: 26.5s\n",
      "466:\tlearn: 1747.8831316\ttotal: 23.2s\tremaining: 26.5s\n",
      "467:\tlearn: 1747.0475447\ttotal: 23.2s\tremaining: 26.4s\n",
      "468:\tlearn: 1746.8129643\ttotal: 23.3s\tremaining: 26.3s\n",
      "469:\tlearn: 1746.5603266\ttotal: 23.3s\tremaining: 26.3s\n",
      "470:\tlearn: 1745.6285807\ttotal: 23.3s\tremaining: 26.2s\n",
      "471:\tlearn: 1745.0126140\ttotal: 23.4s\tremaining: 26.2s\n",
      "472:\tlearn: 1744.3602784\ttotal: 23.4s\tremaining: 26.1s\n",
      "473:\tlearn: 1742.8340292\ttotal: 23.5s\tremaining: 26.1s\n",
      "474:\tlearn: 1742.7076100\ttotal: 23.6s\tremaining: 26.1s\n",
      "475:\tlearn: 1742.2120047\ttotal: 23.6s\tremaining: 26s\n",
      "476:\tlearn: 1741.3405463\ttotal: 23.7s\tremaining: 26s\n",
      "477:\tlearn: 1741.1710131\ttotal: 23.7s\tremaining: 25.9s\n",
      "478:\tlearn: 1740.4643972\ttotal: 23.8s\tremaining: 25.9s\n",
      "479:\tlearn: 1739.8580381\ttotal: 23.8s\tremaining: 25.8s\n",
      "480:\tlearn: 1739.2971719\ttotal: 23.8s\tremaining: 25.7s\n",
      "481:\tlearn: 1738.6105830\ttotal: 23.9s\tremaining: 25.7s\n",
      "482:\tlearn: 1738.2491377\ttotal: 23.9s\tremaining: 25.6s\n",
      "483:\tlearn: 1737.9678121\ttotal: 24s\tremaining: 25.6s\n",
      "484:\tlearn: 1737.4559856\ttotal: 24s\tremaining: 25.5s\n",
      "485:\tlearn: 1737.0350468\ttotal: 24.1s\tremaining: 25.4s\n",
      "486:\tlearn: 1736.3856545\ttotal: 24.1s\tremaining: 25.4s\n",
      "487:\tlearn: 1736.1706115\ttotal: 24.1s\tremaining: 25.3s\n",
      "488:\tlearn: 1736.0782604\ttotal: 24.2s\tremaining: 25.3s\n",
      "489:\tlearn: 1735.7344258\ttotal: 24.2s\tremaining: 25.2s\n",
      "490:\tlearn: 1734.8988622\ttotal: 24.3s\tremaining: 25.2s\n",
      "491:\tlearn: 1734.2580267\ttotal: 24.3s\tremaining: 25.1s\n",
      "492:\tlearn: 1733.6418693\ttotal: 24.3s\tremaining: 25s\n",
      "493:\tlearn: 1733.2133673\ttotal: 24.4s\tremaining: 25s\n",
      "494:\tlearn: 1732.5294079\ttotal: 24.4s\tremaining: 24.9s\n",
      "495:\tlearn: 1731.9246762\ttotal: 24.5s\tremaining: 24.9s\n",
      "496:\tlearn: 1731.3644991\ttotal: 24.5s\tremaining: 24.8s\n",
      "497:\tlearn: 1731.1276353\ttotal: 24.6s\tremaining: 24.8s\n",
      "498:\tlearn: 1731.0147170\ttotal: 24.6s\tremaining: 24.7s\n",
      "499:\tlearn: 1730.0337972\ttotal: 24.6s\tremaining: 24.6s\n",
      "500:\tlearn: 1729.6101836\ttotal: 24.7s\tremaining: 24.6s\n",
      "501:\tlearn: 1729.3909944\ttotal: 24.8s\tremaining: 24.6s\n",
      "502:\tlearn: 1728.9741690\ttotal: 24.8s\tremaining: 24.6s\n",
      "503:\tlearn: 1728.6663096\ttotal: 24.9s\tremaining: 24.5s\n",
      "504:\tlearn: 1728.0744795\ttotal: 24.9s\tremaining: 24.4s\n",
      "505:\tlearn: 1727.8312555\ttotal: 25s\tremaining: 24.4s\n",
      "506:\tlearn: 1727.3141083\ttotal: 25s\tremaining: 24.3s\n",
      "507:\tlearn: 1726.6560549\ttotal: 25.1s\tremaining: 24.3s\n",
      "508:\tlearn: 1726.4907742\ttotal: 25.1s\tremaining: 24.2s\n",
      "509:\tlearn: 1726.2704732\ttotal: 25.2s\tremaining: 24.2s\n",
      "510:\tlearn: 1725.9606209\ttotal: 25.2s\tremaining: 24.1s\n",
      "511:\tlearn: 1725.3723798\ttotal: 25.2s\tremaining: 24.1s\n",
      "512:\tlearn: 1724.8670187\ttotal: 25.3s\tremaining: 24s\n",
      "513:\tlearn: 1724.2720998\ttotal: 25.3s\tremaining: 23.9s\n",
      "514:\tlearn: 1724.0547616\ttotal: 25.4s\tremaining: 23.9s\n",
      "515:\tlearn: 1723.8506264\ttotal: 25.4s\tremaining: 23.8s\n",
      "516:\tlearn: 1723.6914637\ttotal: 25.5s\tremaining: 23.8s\n",
      "517:\tlearn: 1723.1809420\ttotal: 25.5s\tremaining: 23.7s\n",
      "518:\tlearn: 1722.4641024\ttotal: 25.5s\tremaining: 23.7s\n",
      "519:\tlearn: 1722.2855111\ttotal: 25.6s\tremaining: 23.6s\n",
      "520:\tlearn: 1721.9388055\ttotal: 25.6s\tremaining: 23.6s\n",
      "521:\tlearn: 1721.5733234\ttotal: 25.7s\tremaining: 23.5s\n",
      "522:\tlearn: 1721.0643750\ttotal: 25.7s\tremaining: 23.5s\n",
      "523:\tlearn: 1720.9674395\ttotal: 25.8s\tremaining: 23.4s\n",
      "524:\tlearn: 1720.6670494\ttotal: 25.8s\tremaining: 23.3s\n",
      "525:\tlearn: 1720.3685581\ttotal: 25.9s\tremaining: 23.3s\n",
      "526:\tlearn: 1719.1102441\ttotal: 25.9s\tremaining: 23.3s\n",
      "527:\tlearn: 1718.2599987\ttotal: 26s\tremaining: 23.2s\n",
      "528:\tlearn: 1717.6365439\ttotal: 26s\tremaining: 23.2s\n",
      "529:\tlearn: 1717.2601820\ttotal: 26.1s\tremaining: 23.1s\n",
      "530:\tlearn: 1716.8819892\ttotal: 26.2s\tremaining: 23.1s\n",
      "531:\tlearn: 1716.6175416\ttotal: 26.2s\tremaining: 23s\n",
      "532:\tlearn: 1716.5365494\ttotal: 26.2s\tremaining: 23s\n",
      "533:\tlearn: 1716.1146573\ttotal: 26.3s\tremaining: 22.9s\n",
      "534:\tlearn: 1715.9175749\ttotal: 26.3s\tremaining: 22.9s\n",
      "535:\tlearn: 1715.6172026\ttotal: 26.4s\tremaining: 22.8s\n",
      "536:\tlearn: 1715.1085363\ttotal: 26.4s\tremaining: 22.8s\n",
      "537:\tlearn: 1714.4057666\ttotal: 26.5s\tremaining: 22.7s\n",
      "538:\tlearn: 1713.9724505\ttotal: 26.5s\tremaining: 22.7s\n",
      "539:\tlearn: 1713.4871637\ttotal: 26.6s\tremaining: 22.6s\n",
      "540:\tlearn: 1713.3092762\ttotal: 26.6s\tremaining: 22.6s\n",
      "541:\tlearn: 1712.7013870\ttotal: 26.6s\tremaining: 22.5s\n",
      "542:\tlearn: 1712.6225011\ttotal: 26.7s\tremaining: 22.5s\n",
      "543:\tlearn: 1712.2594093\ttotal: 26.7s\tremaining: 22.4s\n",
      "544:\tlearn: 1711.5867312\ttotal: 26.8s\tremaining: 22.4s\n",
      "545:\tlearn: 1711.2686612\ttotal: 26.8s\tremaining: 22.3s\n",
      "546:\tlearn: 1711.0769618\ttotal: 26.9s\tremaining: 22.2s\n",
      "547:\tlearn: 1710.9646740\ttotal: 26.9s\tremaining: 22.2s\n",
      "548:\tlearn: 1710.3845244\ttotal: 26.9s\tremaining: 22.1s\n",
      "549:\tlearn: 1709.8812927\ttotal: 27s\tremaining: 22.1s\n",
      "550:\tlearn: 1709.2159417\ttotal: 27s\tremaining: 22s\n",
      "551:\tlearn: 1708.6756778\ttotal: 27.1s\tremaining: 22s\n",
      "552:\tlearn: 1708.3204669\ttotal: 27.1s\tremaining: 21.9s\n",
      "553:\tlearn: 1707.9190688\ttotal: 27.2s\tremaining: 21.9s\n",
      "554:\tlearn: 1707.6681951\ttotal: 27.2s\tremaining: 21.8s\n",
      "555:\tlearn: 1706.8728022\ttotal: 27.3s\tremaining: 21.8s\n",
      "556:\tlearn: 1706.6421069\ttotal: 27.4s\tremaining: 21.8s\n",
      "557:\tlearn: 1706.1654587\ttotal: 27.4s\tremaining: 21.7s\n",
      "558:\tlearn: 1705.8892263\ttotal: 27.5s\tremaining: 21.7s\n",
      "559:\tlearn: 1705.7665712\ttotal: 27.5s\tremaining: 21.6s\n",
      "560:\tlearn: 1705.1083488\ttotal: 27.5s\tremaining: 21.6s\n",
      "561:\tlearn: 1704.5755676\ttotal: 27.6s\tremaining: 21.5s\n",
      "562:\tlearn: 1703.7052901\ttotal: 27.6s\tremaining: 21.4s\n",
      "563:\tlearn: 1703.4910727\ttotal: 27.7s\tremaining: 21.4s\n",
      "564:\tlearn: 1703.0781935\ttotal: 27.7s\tremaining: 21.3s\n",
      "565:\tlearn: 1702.7517598\ttotal: 27.8s\tremaining: 21.3s\n",
      "566:\tlearn: 1702.4599896\ttotal: 27.8s\tremaining: 21.2s\n",
      "567:\tlearn: 1701.7452655\ttotal: 27.8s\tremaining: 21.2s\n",
      "568:\tlearn: 1701.2772718\ttotal: 27.9s\tremaining: 21.1s\n",
      "569:\tlearn: 1701.0099121\ttotal: 27.9s\tremaining: 21.1s\n",
      "570:\tlearn: 1700.5488888\ttotal: 28s\tremaining: 21s\n",
      "571:\tlearn: 1699.8686802\ttotal: 28s\tremaining: 21s\n",
      "572:\tlearn: 1699.4565439\ttotal: 28.1s\tremaining: 20.9s\n",
      "573:\tlearn: 1699.2400945\ttotal: 28.1s\tremaining: 20.9s\n",
      "574:\tlearn: 1698.7215586\ttotal: 28.2s\tremaining: 20.8s\n",
      "575:\tlearn: 1698.4346434\ttotal: 28.2s\tremaining: 20.8s\n",
      "576:\tlearn: 1698.2651235\ttotal: 28.3s\tremaining: 20.7s\n",
      "577:\tlearn: 1697.6731102\ttotal: 28.3s\tremaining: 20.7s\n",
      "578:\tlearn: 1697.0797649\ttotal: 28.3s\tremaining: 20.6s\n",
      "579:\tlearn: 1696.9559489\ttotal: 28.4s\tremaining: 20.6s\n",
      "580:\tlearn: 1696.4061909\ttotal: 28.5s\tremaining: 20.5s\n",
      "581:\tlearn: 1695.9803239\ttotal: 28.5s\tremaining: 20.5s\n",
      "582:\tlearn: 1695.6293378\ttotal: 28.6s\tremaining: 20.4s\n",
      "583:\tlearn: 1695.2771017\ttotal: 28.6s\tremaining: 20.4s\n",
      "584:\tlearn: 1694.9883855\ttotal: 28.7s\tremaining: 20.3s\n",
      "585:\tlearn: 1694.8397530\ttotal: 28.7s\tremaining: 20.3s\n",
      "586:\tlearn: 1694.4667456\ttotal: 28.8s\tremaining: 20.2s\n",
      "587:\tlearn: 1694.0333408\ttotal: 28.8s\tremaining: 20.2s\n",
      "588:\tlearn: 1693.5064610\ttotal: 28.9s\tremaining: 20.1s\n",
      "589:\tlearn: 1693.2528712\ttotal: 28.9s\tremaining: 20.1s\n",
      "590:\tlearn: 1692.7362469\ttotal: 29s\tremaining: 20s\n",
      "591:\tlearn: 1692.5723702\ttotal: 29s\tremaining: 20s\n",
      "592:\tlearn: 1692.3400032\ttotal: 29.1s\tremaining: 19.9s\n",
      "593:\tlearn: 1691.5944378\ttotal: 29.1s\tremaining: 19.9s\n",
      "594:\tlearn: 1691.5290334\ttotal: 29.1s\tremaining: 19.8s\n",
      "595:\tlearn: 1691.1325821\ttotal: 29.2s\tremaining: 19.8s\n",
      "596:\tlearn: 1690.7713720\ttotal: 29.2s\tremaining: 19.7s\n",
      "597:\tlearn: 1690.6983180\ttotal: 29.3s\tremaining: 19.7s\n",
      "598:\tlearn: 1690.5492309\ttotal: 29.3s\tremaining: 19.6s\n",
      "599:\tlearn: 1688.8379776\ttotal: 29.4s\tremaining: 19.6s\n",
      "600:\tlearn: 1688.4229233\ttotal: 29.4s\tremaining: 19.5s\n",
      "601:\tlearn: 1688.1349590\ttotal: 29.5s\tremaining: 19.5s\n",
      "602:\tlearn: 1688.0554516\ttotal: 29.5s\tremaining: 19.4s\n",
      "603:\tlearn: 1687.4118195\ttotal: 29.5s\tremaining: 19.4s\n",
      "604:\tlearn: 1687.1132122\ttotal: 29.6s\tremaining: 19.3s\n",
      "605:\tlearn: 1686.4890772\ttotal: 29.6s\tremaining: 19.3s\n",
      "606:\tlearn: 1685.8976578\ttotal: 29.7s\tremaining: 19.2s\n",
      "607:\tlearn: 1685.5412700\ttotal: 29.8s\tremaining: 19.2s\n",
      "608:\tlearn: 1685.3488565\ttotal: 29.8s\tremaining: 19.2s\n",
      "609:\tlearn: 1685.0093743\ttotal: 29.9s\tremaining: 19.1s\n"
     ]
    },
    {
     "name": "stdout",
     "output_type": "stream",
     "text": [
      "610:\tlearn: 1684.8605766\ttotal: 29.9s\tremaining: 19.1s\n",
      "611:\tlearn: 1684.6537171\ttotal: 30s\tremaining: 19s\n",
      "612:\tlearn: 1683.9659926\ttotal: 30s\tremaining: 19s\n",
      "613:\tlearn: 1683.6500756\ttotal: 30.1s\tremaining: 18.9s\n",
      "614:\tlearn: 1683.3742633\ttotal: 30.1s\tremaining: 18.9s\n",
      "615:\tlearn: 1683.2726076\ttotal: 30.2s\tremaining: 18.8s\n",
      "616:\tlearn: 1683.1696026\ttotal: 30.2s\tremaining: 18.8s\n",
      "617:\tlearn: 1682.8974284\ttotal: 30.3s\tremaining: 18.7s\n",
      "618:\tlearn: 1681.9613466\ttotal: 30.3s\tremaining: 18.7s\n",
      "619:\tlearn: 1681.6507982\ttotal: 30.4s\tremaining: 18.6s\n",
      "620:\tlearn: 1681.1379670\ttotal: 30.4s\tremaining: 18.6s\n",
      "621:\tlearn: 1680.9434672\ttotal: 30.5s\tremaining: 18.5s\n",
      "622:\tlearn: 1680.5535597\ttotal: 30.5s\tremaining: 18.5s\n",
      "623:\tlearn: 1680.2860717\ttotal: 30.6s\tremaining: 18.4s\n",
      "624:\tlearn: 1679.9494990\ttotal: 30.6s\tremaining: 18.4s\n",
      "625:\tlearn: 1679.3640265\ttotal: 30.6s\tremaining: 18.3s\n",
      "626:\tlearn: 1678.7783042\ttotal: 30.7s\tremaining: 18.3s\n",
      "627:\tlearn: 1678.6676581\ttotal: 30.7s\tremaining: 18.2s\n",
      "628:\tlearn: 1677.7778076\ttotal: 30.8s\tremaining: 18.2s\n",
      "629:\tlearn: 1677.3304269\ttotal: 30.8s\tremaining: 18.1s\n",
      "630:\tlearn: 1676.5132993\ttotal: 30.9s\tremaining: 18.1s\n",
      "631:\tlearn: 1676.2123166\ttotal: 31s\tremaining: 18s\n",
      "632:\tlearn: 1675.4208278\ttotal: 31s\tremaining: 18s\n",
      "633:\tlearn: 1675.2271827\ttotal: 31.1s\tremaining: 18s\n",
      "634:\tlearn: 1674.9818420\ttotal: 31.1s\tremaining: 17.9s\n",
      "635:\tlearn: 1673.9955306\ttotal: 31.2s\tremaining: 17.9s\n",
      "636:\tlearn: 1673.3082618\ttotal: 31.2s\tremaining: 17.8s\n",
      "637:\tlearn: 1672.8602109\ttotal: 31.3s\tremaining: 17.7s\n",
      "638:\tlearn: 1672.6346520\ttotal: 31.3s\tremaining: 17.7s\n",
      "639:\tlearn: 1672.4462915\ttotal: 31.4s\tremaining: 17.6s\n",
      "640:\tlearn: 1671.9344678\ttotal: 31.4s\tremaining: 17.6s\n",
      "641:\tlearn: 1671.5465135\ttotal: 31.4s\tremaining: 17.5s\n",
      "642:\tlearn: 1670.8755981\ttotal: 31.5s\tremaining: 17.5s\n",
      "643:\tlearn: 1670.5342032\ttotal: 31.5s\tremaining: 17.4s\n",
      "644:\tlearn: 1670.0416627\ttotal: 31.6s\tremaining: 17.4s\n",
      "645:\tlearn: 1669.8158715\ttotal: 31.6s\tremaining: 17.3s\n",
      "646:\tlearn: 1669.4674649\ttotal: 31.7s\tremaining: 17.3s\n",
      "647:\tlearn: 1669.3741683\ttotal: 31.7s\tremaining: 17.2s\n",
      "648:\tlearn: 1669.0438663\ttotal: 31.8s\tremaining: 17.2s\n",
      "649:\tlearn: 1668.9110958\ttotal: 31.8s\tremaining: 17.1s\n",
      "650:\tlearn: 1668.6922151\ttotal: 31.8s\tremaining: 17.1s\n",
      "651:\tlearn: 1668.6114716\ttotal: 31.9s\tremaining: 17s\n",
      "652:\tlearn: 1668.3847150\ttotal: 31.9s\tremaining: 17s\n",
      "653:\tlearn: 1668.2514602\ttotal: 32s\tremaining: 16.9s\n",
      "654:\tlearn: 1668.1666005\ttotal: 32s\tremaining: 16.9s\n",
      "655:\tlearn: 1667.8281628\ttotal: 32.1s\tremaining: 16.8s\n",
      "656:\tlearn: 1667.6505194\ttotal: 32.1s\tremaining: 16.8s\n",
      "657:\tlearn: 1666.9171639\ttotal: 32.2s\tremaining: 16.7s\n",
      "658:\tlearn: 1666.4694810\ttotal: 32.2s\tremaining: 16.7s\n",
      "659:\tlearn: 1666.2876583\ttotal: 32.3s\tremaining: 16.6s\n",
      "660:\tlearn: 1665.8318215\ttotal: 32.3s\tremaining: 16.6s\n",
      "661:\tlearn: 1665.5248532\ttotal: 32.4s\tremaining: 16.5s\n",
      "662:\tlearn: 1665.2640072\ttotal: 32.4s\tremaining: 16.5s\n",
      "663:\tlearn: 1664.9444612\ttotal: 32.5s\tremaining: 16.4s\n",
      "664:\tlearn: 1664.5004988\ttotal: 32.5s\tremaining: 16.4s\n",
      "665:\tlearn: 1664.2646742\ttotal: 32.5s\tremaining: 16.3s\n",
      "666:\tlearn: 1663.8905198\ttotal: 32.6s\tremaining: 16.3s\n",
      "667:\tlearn: 1663.7359893\ttotal: 32.6s\tremaining: 16.2s\n",
      "668:\tlearn: 1663.1182502\ttotal: 32.7s\tremaining: 16.2s\n",
      "669:\tlearn: 1662.8858043\ttotal: 32.7s\tremaining: 16.1s\n",
      "670:\tlearn: 1662.5316108\ttotal: 32.7s\tremaining: 16.1s\n",
      "671:\tlearn: 1662.3462382\ttotal: 32.8s\tremaining: 16s\n",
      "672:\tlearn: 1662.1189144\ttotal: 32.8s\tremaining: 16s\n",
      "673:\tlearn: 1661.4778622\ttotal: 32.9s\tremaining: 15.9s\n",
      "674:\tlearn: 1661.3150061\ttotal: 32.9s\tremaining: 15.9s\n",
      "675:\tlearn: 1660.9582397\ttotal: 33s\tremaining: 15.8s\n",
      "676:\tlearn: 1660.4064941\ttotal: 33s\tremaining: 15.7s\n",
      "677:\tlearn: 1660.0354065\ttotal: 33.1s\tremaining: 15.7s\n",
      "678:\tlearn: 1659.5439804\ttotal: 33.1s\tremaining: 15.6s\n",
      "679:\tlearn: 1659.4307649\ttotal: 33.1s\tremaining: 15.6s\n",
      "680:\tlearn: 1659.0143584\ttotal: 33.2s\tremaining: 15.5s\n",
      "681:\tlearn: 1658.8088306\ttotal: 33.2s\tremaining: 15.5s\n",
      "682:\tlearn: 1658.7545393\ttotal: 33.3s\tremaining: 15.4s\n",
      "683:\tlearn: 1658.5127470\ttotal: 33.3s\tremaining: 15.4s\n",
      "684:\tlearn: 1658.3535669\ttotal: 33.4s\tremaining: 15.3s\n",
      "685:\tlearn: 1658.0672787\ttotal: 33.4s\tremaining: 15.3s\n",
      "686:\tlearn: 1657.8908327\ttotal: 33.5s\tremaining: 15.3s\n",
      "687:\tlearn: 1657.5432958\ttotal: 33.5s\tremaining: 15.2s\n",
      "688:\tlearn: 1657.4594578\ttotal: 33.6s\tremaining: 15.2s\n",
      "689:\tlearn: 1657.2375439\ttotal: 33.6s\tremaining: 15.1s\n",
      "690:\tlearn: 1657.0353285\ttotal: 33.7s\tremaining: 15.1s\n",
      "691:\tlearn: 1656.7239849\ttotal: 33.7s\tremaining: 15s\n",
      "692:\tlearn: 1656.4936422\ttotal: 33.8s\tremaining: 15s\n",
      "693:\tlearn: 1656.2986188\ttotal: 33.8s\tremaining: 14.9s\n",
      "694:\tlearn: 1656.2357043\ttotal: 33.9s\tremaining: 14.9s\n",
      "695:\tlearn: 1656.0850259\ttotal: 33.9s\tremaining: 14.8s\n",
      "696:\tlearn: 1655.8934484\ttotal: 34s\tremaining: 14.8s\n",
      "697:\tlearn: 1655.5481540\ttotal: 34s\tremaining: 14.7s\n",
      "698:\tlearn: 1655.5063847\ttotal: 34s\tremaining: 14.7s\n",
      "699:\tlearn: 1655.3225902\ttotal: 34.1s\tremaining: 14.6s\n",
      "700:\tlearn: 1655.2045939\ttotal: 34.2s\tremaining: 14.6s\n",
      "701:\tlearn: 1654.7010388\ttotal: 34.2s\tremaining: 14.5s\n",
      "702:\tlearn: 1654.2470439\ttotal: 34.3s\tremaining: 14.5s\n",
      "703:\tlearn: 1654.1681420\ttotal: 34.3s\tremaining: 14.4s\n",
      "704:\tlearn: 1654.0112063\ttotal: 34.4s\tremaining: 14.4s\n",
      "705:\tlearn: 1653.7592329\ttotal: 34.4s\tremaining: 14.3s\n",
      "706:\tlearn: 1653.5315831\ttotal: 34.5s\tremaining: 14.3s\n",
      "707:\tlearn: 1653.3646620\ttotal: 34.5s\tremaining: 14.2s\n",
      "708:\tlearn: 1653.1583278\ttotal: 34.6s\tremaining: 14.2s\n",
      "709:\tlearn: 1652.7148494\ttotal: 34.7s\tremaining: 14.2s\n",
      "710:\tlearn: 1652.3926955\ttotal: 34.7s\tremaining: 14.1s\n",
      "711:\tlearn: 1652.0457686\ttotal: 34.8s\tremaining: 14.1s\n",
      "712:\tlearn: 1651.7901383\ttotal: 34.8s\tremaining: 14s\n",
      "713:\tlearn: 1651.5480918\ttotal: 34.9s\tremaining: 14s\n",
      "714:\tlearn: 1651.2391940\ttotal: 34.9s\tremaining: 13.9s\n",
      "715:\tlearn: 1650.7341902\ttotal: 35s\tremaining: 13.9s\n",
      "716:\tlearn: 1650.0898364\ttotal: 35s\tremaining: 13.8s\n",
      "717:\tlearn: 1649.7283544\ttotal: 35s\tremaining: 13.8s\n",
      "718:\tlearn: 1649.4366480\ttotal: 35.1s\tremaining: 13.7s\n",
      "719:\tlearn: 1649.2221677\ttotal: 35.1s\tremaining: 13.7s\n",
      "720:\tlearn: 1648.6858208\ttotal: 35.2s\tremaining: 13.6s\n",
      "721:\tlearn: 1648.2678201\ttotal: 35.2s\tremaining: 13.6s\n",
      "722:\tlearn: 1647.6096879\ttotal: 35.3s\tremaining: 13.5s\n",
      "723:\tlearn: 1647.4890007\ttotal: 35.3s\tremaining: 13.5s\n",
      "724:\tlearn: 1647.3557446\ttotal: 35.4s\tremaining: 13.4s\n",
      "725:\tlearn: 1647.3032965\ttotal: 35.4s\tremaining: 13.4s\n",
      "726:\tlearn: 1646.8571742\ttotal: 35.4s\tremaining: 13.3s\n",
      "727:\tlearn: 1646.6846389\ttotal: 35.5s\tremaining: 13.3s\n",
      "728:\tlearn: 1646.5368474\ttotal: 35.5s\tremaining: 13.2s\n",
      "729:\tlearn: 1646.4523700\ttotal: 35.6s\tremaining: 13.2s\n",
      "730:\tlearn: 1646.2378319\ttotal: 35.6s\tremaining: 13.1s\n",
      "731:\tlearn: 1646.0600618\ttotal: 35.7s\tremaining: 13.1s\n",
      "732:\tlearn: 1645.9167660\ttotal: 35.7s\tremaining: 13s\n",
      "733:\tlearn: 1645.6272602\ttotal: 35.7s\tremaining: 12.9s\n",
      "734:\tlearn: 1645.2629830\ttotal: 35.8s\tremaining: 12.9s\n",
      "735:\tlearn: 1645.1953101\ttotal: 35.9s\tremaining: 12.9s\n",
      "736:\tlearn: 1645.0961211\ttotal: 35.9s\tremaining: 12.8s\n",
      "737:\tlearn: 1644.9911052\ttotal: 36s\tremaining: 12.8s\n",
      "738:\tlearn: 1644.8605152\ttotal: 36.1s\tremaining: 12.7s\n",
      "739:\tlearn: 1644.7120780\ttotal: 36.1s\tremaining: 12.7s\n",
      "740:\tlearn: 1644.3238925\ttotal: 36.1s\tremaining: 12.6s\n",
      "741:\tlearn: 1643.8864035\ttotal: 36.2s\tremaining: 12.6s\n",
      "742:\tlearn: 1643.5240763\ttotal: 36.2s\tremaining: 12.5s\n",
      "743:\tlearn: 1643.4523752\ttotal: 36.3s\tremaining: 12.5s\n",
      "744:\tlearn: 1643.2900021\ttotal: 36.3s\tremaining: 12.4s\n",
      "745:\tlearn: 1643.0769838\ttotal: 36.4s\tremaining: 12.4s\n",
      "746:\tlearn: 1642.5983244\ttotal: 36.4s\tremaining: 12.3s\n",
      "747:\tlearn: 1642.1891767\ttotal: 36.5s\tremaining: 12.3s\n",
      "748:\tlearn: 1641.7545425\ttotal: 36.5s\tremaining: 12.2s\n",
      "749:\tlearn: 1641.5841810\ttotal: 36.5s\tremaining: 12.2s\n",
      "750:\tlearn: 1641.4941049\ttotal: 36.6s\tremaining: 12.1s\n",
      "751:\tlearn: 1641.3650072\ttotal: 36.6s\tremaining: 12.1s\n",
      "752:\tlearn: 1641.1688474\ttotal: 36.7s\tremaining: 12s\n",
      "753:\tlearn: 1640.9424592\ttotal: 36.7s\tremaining: 12s\n",
      "754:\tlearn: 1640.7665154\ttotal: 36.8s\tremaining: 11.9s\n",
      "755:\tlearn: 1640.5765859\ttotal: 36.8s\tremaining: 11.9s\n",
      "756:\tlearn: 1640.3980351\ttotal: 36.9s\tremaining: 11.8s\n",
      "757:\tlearn: 1640.0615414\ttotal: 36.9s\tremaining: 11.8s\n",
      "758:\tlearn: 1639.7638885\ttotal: 36.9s\tremaining: 11.7s\n",
      "759:\tlearn: 1639.5024933\ttotal: 37s\tremaining: 11.7s\n",
      "760:\tlearn: 1639.4589991\ttotal: 37s\tremaining: 11.6s\n",
      "761:\tlearn: 1639.0158669\ttotal: 37.1s\tremaining: 11.6s\n",
      "762:\tlearn: 1638.6626678\ttotal: 37.1s\tremaining: 11.5s\n"
     ]
    },
    {
     "name": "stdout",
     "output_type": "stream",
     "text": [
      "763:\tlearn: 1638.4117394\ttotal: 37.2s\tremaining: 11.5s\n",
      "764:\tlearn: 1638.3845565\ttotal: 37.3s\tremaining: 11.4s\n",
      "765:\tlearn: 1638.1944897\ttotal: 37.3s\tremaining: 11.4s\n",
      "766:\tlearn: 1637.9815655\ttotal: 37.4s\tremaining: 11.3s\n",
      "767:\tlearn: 1637.8796863\ttotal: 37.4s\tremaining: 11.3s\n",
      "768:\tlearn: 1637.4774684\ttotal: 37.5s\tremaining: 11.3s\n",
      "769:\tlearn: 1636.9659782\ttotal: 37.5s\tremaining: 11.2s\n",
      "770:\tlearn: 1636.8987771\ttotal: 37.5s\tremaining: 11.1s\n",
      "771:\tlearn: 1636.8146815\ttotal: 37.6s\tremaining: 11.1s\n",
      "772:\tlearn: 1636.6103484\ttotal: 37.6s\tremaining: 11.1s\n",
      "773:\tlearn: 1635.8312832\ttotal: 37.7s\tremaining: 11s\n",
      "774:\tlearn: 1635.6293810\ttotal: 37.7s\tremaining: 10.9s\n",
      "775:\tlearn: 1634.8567692\ttotal: 37.8s\tremaining: 10.9s\n",
      "776:\tlearn: 1634.7523046\ttotal: 37.8s\tremaining: 10.8s\n",
      "777:\tlearn: 1634.6589279\ttotal: 37.9s\tremaining: 10.8s\n",
      "778:\tlearn: 1634.1243416\ttotal: 37.9s\tremaining: 10.8s\n",
      "779:\tlearn: 1633.9296692\ttotal: 37.9s\tremaining: 10.7s\n",
      "780:\tlearn: 1633.7007710\ttotal: 38s\tremaining: 10.7s\n",
      "781:\tlearn: 1633.5668971\ttotal: 38.1s\tremaining: 10.6s\n",
      "782:\tlearn: 1633.2240643\ttotal: 38.1s\tremaining: 10.6s\n",
      "783:\tlearn: 1633.1239913\ttotal: 38.1s\tremaining: 10.5s\n",
      "784:\tlearn: 1632.8795611\ttotal: 38.2s\tremaining: 10.5s\n",
      "785:\tlearn: 1632.6845615\ttotal: 38.2s\tremaining: 10.4s\n",
      "786:\tlearn: 1632.5925401\ttotal: 38.3s\tremaining: 10.4s\n",
      "787:\tlearn: 1632.1462049\ttotal: 38.3s\tremaining: 10.3s\n",
      "788:\tlearn: 1632.1029948\ttotal: 38.4s\tremaining: 10.3s\n",
      "789:\tlearn: 1631.7070122\ttotal: 38.5s\tremaining: 10.2s\n",
      "790:\tlearn: 1631.6854595\ttotal: 38.5s\tremaining: 10.2s\n",
      "791:\tlearn: 1631.3800846\ttotal: 38.6s\tremaining: 10.1s\n",
      "792:\tlearn: 1631.0941875\ttotal: 38.6s\tremaining: 10.1s\n",
      "793:\tlearn: 1630.5376667\ttotal: 38.7s\tremaining: 10s\n",
      "794:\tlearn: 1630.3645366\ttotal: 38.7s\tremaining: 9.98s\n",
      "795:\tlearn: 1630.2949915\ttotal: 38.8s\tremaining: 9.94s\n",
      "796:\tlearn: 1629.4784642\ttotal: 38.8s\tremaining: 9.89s\n",
      "797:\tlearn: 1629.2948576\ttotal: 38.9s\tremaining: 9.84s\n",
      "798:\tlearn: 1629.1338589\ttotal: 38.9s\tremaining: 9.79s\n",
      "799:\tlearn: 1628.8987720\ttotal: 38.9s\tremaining: 9.74s\n",
      "800:\tlearn: 1628.8108039\ttotal: 39s\tremaining: 9.69s\n",
      "801:\tlearn: 1628.6078973\ttotal: 39.1s\tremaining: 9.64s\n",
      "802:\tlearn: 1628.1936341\ttotal: 39.1s\tremaining: 9.59s\n",
      "803:\tlearn: 1627.8412901\ttotal: 39.1s\tremaining: 9.54s\n",
      "804:\tlearn: 1627.5097061\ttotal: 39.2s\tremaining: 9.49s\n",
      "805:\tlearn: 1627.3461400\ttotal: 39.2s\tremaining: 9.44s\n",
      "806:\tlearn: 1626.8875719\ttotal: 39.3s\tremaining: 9.39s\n",
      "807:\tlearn: 1626.8241399\ttotal: 39.3s\tremaining: 9.34s\n",
      "808:\tlearn: 1626.5597989\ttotal: 39.4s\tremaining: 9.29s\n",
      "809:\tlearn: 1626.3849827\ttotal: 39.4s\tremaining: 9.24s\n",
      "810:\tlearn: 1626.0433956\ttotal: 39.4s\tremaining: 9.19s\n",
      "811:\tlearn: 1625.7577457\ttotal: 39.5s\tremaining: 9.14s\n",
      "812:\tlearn: 1625.5425468\ttotal: 39.5s\tremaining: 9.09s\n",
      "813:\tlearn: 1625.3821385\ttotal: 39.6s\tremaining: 9.04s\n",
      "814:\tlearn: 1625.2527672\ttotal: 39.6s\tremaining: 8.99s\n",
      "815:\tlearn: 1625.1289055\ttotal: 39.7s\tremaining: 8.95s\n",
      "816:\tlearn: 1624.3590565\ttotal: 39.7s\tremaining: 8.9s\n",
      "817:\tlearn: 1624.2968426\ttotal: 39.8s\tremaining: 8.85s\n",
      "818:\tlearn: 1623.9386509\ttotal: 39.9s\tremaining: 8.81s\n",
      "819:\tlearn: 1623.7896622\ttotal: 39.9s\tremaining: 8.76s\n",
      "820:\tlearn: 1623.6376313\ttotal: 40s\tremaining: 8.71s\n",
      "821:\tlearn: 1623.4947790\ttotal: 40s\tremaining: 8.66s\n",
      "822:\tlearn: 1623.4622081\ttotal: 40.1s\tremaining: 8.61s\n",
      "823:\tlearn: 1623.0770041\ttotal: 40.1s\tremaining: 8.56s\n",
      "824:\tlearn: 1622.9291850\ttotal: 40.1s\tremaining: 8.52s\n",
      "825:\tlearn: 1622.8205599\ttotal: 40.2s\tremaining: 8.47s\n",
      "826:\tlearn: 1622.3379454\ttotal: 40.2s\tremaining: 8.42s\n",
      "827:\tlearn: 1621.9999005\ttotal: 40.3s\tremaining: 8.37s\n",
      "828:\tlearn: 1621.9070786\ttotal: 40.3s\tremaining: 8.32s\n",
      "829:\tlearn: 1621.4176456\ttotal: 40.4s\tremaining: 8.27s\n",
      "830:\tlearn: 1621.3277783\ttotal: 40.5s\tremaining: 8.23s\n",
      "831:\tlearn: 1620.7843806\ttotal: 40.5s\tremaining: 8.18s\n",
      "832:\tlearn: 1620.3428358\ttotal: 40.5s\tremaining: 8.13s\n",
      "833:\tlearn: 1620.0549899\ttotal: 40.6s\tremaining: 8.08s\n",
      "834:\tlearn: 1619.5791258\ttotal: 40.7s\tremaining: 8.03s\n",
      "835:\tlearn: 1619.4371700\ttotal: 40.7s\tremaining: 7.99s\n",
      "836:\tlearn: 1619.3994804\ttotal: 40.8s\tremaining: 7.94s\n",
      "837:\tlearn: 1619.3438179\ttotal: 40.8s\tremaining: 7.89s\n",
      "838:\tlearn: 1619.2371839\ttotal: 40.9s\tremaining: 7.84s\n",
      "839:\tlearn: 1618.8691623\ttotal: 40.9s\tremaining: 7.8s\n",
      "840:\tlearn: 1618.7873408\ttotal: 41s\tremaining: 7.75s\n",
      "841:\tlearn: 1618.6096263\ttotal: 41.1s\tremaining: 7.71s\n",
      "842:\tlearn: 1618.3225526\ttotal: 41.1s\tremaining: 7.66s\n",
      "843:\tlearn: 1617.9777987\ttotal: 41.2s\tremaining: 7.61s\n",
      "844:\tlearn: 1617.5983267\ttotal: 41.2s\tremaining: 7.56s\n",
      "845:\tlearn: 1617.3499000\ttotal: 41.2s\tremaining: 7.51s\n",
      "846:\tlearn: 1617.2711916\ttotal: 41.3s\tremaining: 7.46s\n",
      "847:\tlearn: 1617.1093024\ttotal: 41.3s\tremaining: 7.41s\n",
      "848:\tlearn: 1616.9300675\ttotal: 41.4s\tremaining: 7.36s\n",
      "849:\tlearn: 1616.7102835\ttotal: 41.4s\tremaining: 7.31s\n",
      "850:\tlearn: 1616.5984648\ttotal: 41.5s\tremaining: 7.26s\n",
      "851:\tlearn: 1616.2666402\ttotal: 41.5s\tremaining: 7.22s\n",
      "852:\tlearn: 1615.5356163\ttotal: 41.6s\tremaining: 7.17s\n",
      "853:\tlearn: 1615.4138555\ttotal: 41.6s\tremaining: 7.12s\n",
      "854:\tlearn: 1615.3416695\ttotal: 41.7s\tremaining: 7.07s\n",
      "855:\tlearn: 1615.0012509\ttotal: 41.7s\tremaining: 7.02s\n",
      "856:\tlearn: 1614.7002586\ttotal: 41.8s\tremaining: 6.97s\n",
      "857:\tlearn: 1614.5952128\ttotal: 41.8s\tremaining: 6.92s\n",
      "858:\tlearn: 1614.2067232\ttotal: 41.9s\tremaining: 6.87s\n",
      "859:\tlearn: 1614.0115846\ttotal: 41.9s\tremaining: 6.82s\n",
      "860:\tlearn: 1613.7911796\ttotal: 42s\tremaining: 6.77s\n",
      "861:\tlearn: 1613.4425361\ttotal: 42s\tremaining: 6.72s\n",
      "862:\tlearn: 1613.2513965\ttotal: 42.1s\tremaining: 6.68s\n",
      "863:\tlearn: 1612.9098835\ttotal: 42.1s\tremaining: 6.63s\n",
      "864:\tlearn: 1612.6030256\ttotal: 42.2s\tremaining: 6.59s\n",
      "865:\tlearn: 1611.9255643\ttotal: 42.3s\tremaining: 6.54s\n",
      "866:\tlearn: 1611.3807726\ttotal: 42.4s\tremaining: 6.5s\n",
      "867:\tlearn: 1611.0285318\ttotal: 42.4s\tremaining: 6.46s\n",
      "868:\tlearn: 1610.4756613\ttotal: 42.5s\tremaining: 6.41s\n",
      "869:\tlearn: 1609.6493077\ttotal: 42.5s\tremaining: 6.36s\n",
      "870:\tlearn: 1609.4496305\ttotal: 42.6s\tremaining: 6.31s\n",
      "871:\tlearn: 1609.1521086\ttotal: 42.6s\tremaining: 6.26s\n",
      "872:\tlearn: 1608.9420667\ttotal: 42.7s\tremaining: 6.21s\n",
      "873:\tlearn: 1608.7492996\ttotal: 42.7s\tremaining: 6.16s\n",
      "874:\tlearn: 1608.6434302\ttotal: 42.8s\tremaining: 6.11s\n",
      "875:\tlearn: 1608.3128618\ttotal: 42.8s\tremaining: 6.06s\n",
      "876:\tlearn: 1607.8663994\ttotal: 42.9s\tremaining: 6.01s\n",
      "877:\tlearn: 1607.5229912\ttotal: 42.9s\tremaining: 5.96s\n",
      "878:\tlearn: 1607.3127469\ttotal: 43s\tremaining: 5.92s\n",
      "879:\tlearn: 1606.9417952\ttotal: 43s\tremaining: 5.87s\n",
      "880:\tlearn: 1606.8366219\ttotal: 43.1s\tremaining: 5.82s\n",
      "881:\tlearn: 1606.7548455\ttotal: 43.1s\tremaining: 5.77s\n",
      "882:\tlearn: 1606.5524378\ttotal: 43.2s\tremaining: 5.72s\n",
      "883:\tlearn: 1606.2198157\ttotal: 43.2s\tremaining: 5.67s\n",
      "884:\tlearn: 1605.9720329\ttotal: 43.3s\tremaining: 5.62s\n",
      "885:\tlearn: 1605.7782850\ttotal: 43.3s\tremaining: 5.57s\n",
      "886:\tlearn: 1604.9129534\ttotal: 43.4s\tremaining: 5.52s\n",
      "887:\tlearn: 1604.5192477\ttotal: 43.4s\tremaining: 5.48s\n",
      "888:\tlearn: 1604.0652029\ttotal: 43.5s\tremaining: 5.43s\n",
      "889:\tlearn: 1603.6641872\ttotal: 43.6s\tremaining: 5.38s\n",
      "890:\tlearn: 1603.5742314\ttotal: 43.6s\tremaining: 5.33s\n",
      "891:\tlearn: 1603.3603628\ttotal: 43.7s\tremaining: 5.29s\n",
      "892:\tlearn: 1603.0559033\ttotal: 43.7s\tremaining: 5.24s\n",
      "893:\tlearn: 1602.9144383\ttotal: 43.8s\tremaining: 5.19s\n",
      "894:\tlearn: 1602.7382677\ttotal: 43.8s\tremaining: 5.14s\n",
      "895:\tlearn: 1602.2501225\ttotal: 43.9s\tremaining: 5.09s\n",
      "896:\tlearn: 1602.1301488\ttotal: 43.9s\tremaining: 5.04s\n",
      "897:\tlearn: 1601.7352748\ttotal: 44s\tremaining: 4.99s\n",
      "898:\tlearn: 1601.3101245\ttotal: 44s\tremaining: 4.94s\n",
      "899:\tlearn: 1601.0951655\ttotal: 44.1s\tremaining: 4.89s\n",
      "900:\tlearn: 1600.8279572\ttotal: 44.1s\tremaining: 4.84s\n",
      "901:\tlearn: 1600.7680549\ttotal: 44.1s\tremaining: 4.79s\n",
      "902:\tlearn: 1600.5195287\ttotal: 44.2s\tremaining: 4.75s\n",
      "903:\tlearn: 1600.2904712\ttotal: 44.2s\tremaining: 4.7s\n",
      "904:\tlearn: 1599.8358957\ttotal: 44.3s\tremaining: 4.65s\n",
      "905:\tlearn: 1599.6862668\ttotal: 44.3s\tremaining: 4.6s\n",
      "906:\tlearn: 1599.5321639\ttotal: 44.4s\tremaining: 4.55s\n",
      "907:\tlearn: 1598.6717261\ttotal: 44.4s\tremaining: 4.5s\n",
      "908:\tlearn: 1598.3444923\ttotal: 44.5s\tremaining: 4.45s\n",
      "909:\tlearn: 1597.9430804\ttotal: 44.5s\tremaining: 4.4s\n",
      "910:\tlearn: 1597.6713237\ttotal: 44.6s\tremaining: 4.35s\n",
      "911:\tlearn: 1597.5258376\ttotal: 44.6s\tremaining: 4.3s\n",
      "912:\tlearn: 1596.9573540\ttotal: 44.7s\tremaining: 4.25s\n",
      "913:\tlearn: 1596.5031498\ttotal: 44.7s\tremaining: 4.21s\n"
     ]
    },
    {
     "name": "stdout",
     "output_type": "stream",
     "text": [
      "914:\tlearn: 1595.9512685\ttotal: 44.8s\tremaining: 4.16s\n",
      "915:\tlearn: 1595.6739231\ttotal: 44.9s\tremaining: 4.11s\n",
      "916:\tlearn: 1595.3584253\ttotal: 44.9s\tremaining: 4.07s\n",
      "917:\tlearn: 1595.2432256\ttotal: 45s\tremaining: 4.02s\n",
      "918:\tlearn: 1594.9634688\ttotal: 45s\tremaining: 3.97s\n",
      "919:\tlearn: 1594.7910451\ttotal: 45.1s\tremaining: 3.92s\n",
      "920:\tlearn: 1594.5912940\ttotal: 45.1s\tremaining: 3.87s\n",
      "921:\tlearn: 1594.4422678\ttotal: 45.2s\tremaining: 3.82s\n",
      "922:\tlearn: 1594.2232828\ttotal: 45.2s\tremaining: 3.77s\n",
      "923:\tlearn: 1593.9164127\ttotal: 45.3s\tremaining: 3.73s\n",
      "924:\tlearn: 1593.6431903\ttotal: 45.3s\tremaining: 3.67s\n",
      "925:\tlearn: 1593.4706551\ttotal: 45.4s\tremaining: 3.63s\n",
      "926:\tlearn: 1593.0639595\ttotal: 45.4s\tremaining: 3.58s\n",
      "927:\tlearn: 1592.6983416\ttotal: 45.5s\tremaining: 3.53s\n",
      "928:\tlearn: 1592.1164780\ttotal: 45.5s\tremaining: 3.48s\n",
      "929:\tlearn: 1592.0389606\ttotal: 45.6s\tremaining: 3.43s\n",
      "930:\tlearn: 1591.8538916\ttotal: 45.6s\tremaining: 3.38s\n",
      "931:\tlearn: 1591.3052489\ttotal: 45.7s\tremaining: 3.33s\n",
      "932:\tlearn: 1591.1510145\ttotal: 45.7s\tremaining: 3.28s\n",
      "933:\tlearn: 1591.0167436\ttotal: 45.8s\tremaining: 3.23s\n",
      "934:\tlearn: 1590.8657883\ttotal: 45.8s\tremaining: 3.18s\n",
      "935:\tlearn: 1590.6939825\ttotal: 45.8s\tremaining: 3.13s\n",
      "936:\tlearn: 1590.2695523\ttotal: 45.9s\tremaining: 3.08s\n",
      "937:\tlearn: 1589.9111023\ttotal: 45.9s\tremaining: 3.04s\n",
      "938:\tlearn: 1589.7891018\ttotal: 46s\tremaining: 2.99s\n",
      "939:\tlearn: 1589.5770520\ttotal: 46.1s\tremaining: 2.94s\n",
      "940:\tlearn: 1589.4567606\ttotal: 46.1s\tremaining: 2.89s\n",
      "941:\tlearn: 1589.3695283\ttotal: 46.2s\tremaining: 2.84s\n",
      "942:\tlearn: 1589.0507363\ttotal: 46.3s\tremaining: 2.79s\n",
      "943:\tlearn: 1588.9221326\ttotal: 46.3s\tremaining: 2.75s\n",
      "944:\tlearn: 1588.7054559\ttotal: 46.3s\tremaining: 2.7s\n",
      "945:\tlearn: 1588.4051547\ttotal: 46.4s\tremaining: 2.65s\n",
      "946:\tlearn: 1588.0931885\ttotal: 46.4s\tremaining: 2.6s\n",
      "947:\tlearn: 1587.9817480\ttotal: 46.5s\tremaining: 2.55s\n",
      "948:\tlearn: 1587.7692098\ttotal: 46.5s\tremaining: 2.5s\n",
      "949:\tlearn: 1587.4872370\ttotal: 46.6s\tremaining: 2.45s\n",
      "950:\tlearn: 1587.2985523\ttotal: 46.6s\tremaining: 2.4s\n",
      "951:\tlearn: 1587.1373887\ttotal: 46.7s\tremaining: 2.35s\n",
      "952:\tlearn: 1586.9396703\ttotal: 46.7s\tremaining: 2.3s\n",
      "953:\tlearn: 1586.6602297\ttotal: 46.8s\tremaining: 2.26s\n",
      "954:\tlearn: 1586.2728368\ttotal: 46.8s\tremaining: 2.21s\n",
      "955:\tlearn: 1586.1544611\ttotal: 46.9s\tremaining: 2.16s\n",
      "956:\tlearn: 1586.0338881\ttotal: 47s\tremaining: 2.11s\n",
      "957:\tlearn: 1585.8025973\ttotal: 47.1s\tremaining: 2.06s\n",
      "958:\tlearn: 1585.7210026\ttotal: 47.1s\tremaining: 2.01s\n",
      "959:\tlearn: 1585.4514143\ttotal: 47.2s\tremaining: 1.97s\n",
      "960:\tlearn: 1585.3692230\ttotal: 47.2s\tremaining: 1.92s\n",
      "961:\tlearn: 1584.8983026\ttotal: 47.3s\tremaining: 1.87s\n",
      "962:\tlearn: 1584.5908218\ttotal: 47.4s\tremaining: 1.82s\n",
      "963:\tlearn: 1584.4025803\ttotal: 47.4s\tremaining: 1.77s\n",
      "964:\tlearn: 1584.1046512\ttotal: 47.5s\tremaining: 1.72s\n",
      "965:\tlearn: 1583.9683674\ttotal: 47.5s\tremaining: 1.67s\n",
      "966:\tlearn: 1583.5453191\ttotal: 47.6s\tremaining: 1.62s\n",
      "967:\tlearn: 1583.3095170\ttotal: 47.6s\tremaining: 1.57s\n",
      "968:\tlearn: 1583.1666952\ttotal: 47.6s\tremaining: 1.52s\n",
      "969:\tlearn: 1582.9611892\ttotal: 47.7s\tremaining: 1.47s\n",
      "970:\tlearn: 1582.6546020\ttotal: 47.7s\tremaining: 1.43s\n",
      "971:\tlearn: 1582.2265476\ttotal: 47.8s\tremaining: 1.38s\n",
      "972:\tlearn: 1582.0467515\ttotal: 47.8s\tremaining: 1.33s\n",
      "973:\tlearn: 1581.8311785\ttotal: 47.9s\tremaining: 1.28s\n",
      "974:\tlearn: 1581.7819851\ttotal: 47.9s\tremaining: 1.23s\n",
      "975:\tlearn: 1581.4122613\ttotal: 48s\tremaining: 1.18s\n",
      "976:\tlearn: 1581.2301346\ttotal: 48s\tremaining: 1.13s\n",
      "977:\tlearn: 1580.9650768\ttotal: 48s\tremaining: 1.08s\n",
      "978:\tlearn: 1580.8587731\ttotal: 48.1s\tremaining: 1.03s\n",
      "979:\tlearn: 1580.7069749\ttotal: 48.2s\tremaining: 983ms\n",
      "980:\tlearn: 1580.4410377\ttotal: 48.2s\tremaining: 934ms\n",
      "981:\tlearn: 1580.2596411\ttotal: 48.2s\tremaining: 884ms\n",
      "982:\tlearn: 1580.0133608\ttotal: 48.3s\tremaining: 835ms\n",
      "983:\tlearn: 1579.6424301\ttotal: 48.3s\tremaining: 786ms\n",
      "984:\tlearn: 1579.2443559\ttotal: 48.4s\tremaining: 737ms\n",
      "985:\tlearn: 1578.9568398\ttotal: 48.5s\tremaining: 689ms\n",
      "986:\tlearn: 1578.6900653\ttotal: 48.6s\tremaining: 640ms\n",
      "987:\tlearn: 1578.4218262\ttotal: 48.8s\tremaining: 592ms\n",
      "988:\tlearn: 1578.0625263\ttotal: 48.9s\tremaining: 544ms\n",
      "989:\tlearn: 1577.8674958\ttotal: 48.9s\tremaining: 494ms\n",
      "990:\tlearn: 1577.5726578\ttotal: 49s\tremaining: 445ms\n",
      "991:\tlearn: 1577.4314969\ttotal: 49s\tremaining: 395ms\n",
      "992:\tlearn: 1577.3628598\ttotal: 49s\tremaining: 346ms\n",
      "993:\tlearn: 1577.1947592\ttotal: 49.1s\tremaining: 296ms\n",
      "994:\tlearn: 1577.1049578\ttotal: 49.1s\tremaining: 247ms\n",
      "995:\tlearn: 1576.9439106\ttotal: 49.2s\tremaining: 197ms\n",
      "996:\tlearn: 1576.8863127\ttotal: 49.2s\tremaining: 148ms\n",
      "997:\tlearn: 1576.6554575\ttotal: 49.3s\tremaining: 98.8ms\n",
      "998:\tlearn: 1576.6155173\ttotal: 49.4s\tremaining: 49.4ms\n",
      "999:\tlearn: 1576.3753070\ttotal: 49.4s\tremaining: 0us\n"
     ]
    },
    {
     "data": {
      "text/plain": [
       "<catboost.core.CatBoostRegressor at 0x1a12f059e48>"
      ]
     },
     "execution_count": 49,
     "metadata": {},
     "output_type": "execute_result"
    }
   ],
   "source": [
    "from catboost import CatBoostRegressor\n",
    "cat_mod=CatBoostRegressor()\n",
    "cat_mod.fit(xtrain,ytrain)"
   ]
  },
  {
   "cell_type": "code",
   "execution_count": 50,
   "metadata": {},
   "outputs": [],
   "source": [
    "cat_ypred=cat_mod.predict(xtest)"
   ]
  },
  {
   "cell_type": "code",
   "execution_count": 51,
   "metadata": {},
   "outputs": [],
   "source": [
    "cat_mse=mean_squared_error(cat_ypred,ytest)"
   ]
  },
  {
   "cell_type": "code",
   "execution_count": 52,
   "metadata": {},
   "outputs": [
    {
     "data": {
      "text/plain": [
       "2114.8580887833546"
      ]
     },
     "execution_count": 52,
     "metadata": {},
     "output_type": "execute_result"
    }
   ],
   "source": [
    "cat_rmse=np.sqrt(cat_mse)\n",
    "cat_rmse"
   ]
  },
  {
   "cell_type": "markdown",
   "metadata": {},
   "source": [
    "# Taking Random forest model as final model. Hence RMSE value for random forset  is low  when compared to the RMSE values of other models."
   ]
  },
  {
   "cell_type": "code",
   "execution_count": 53,
   "metadata": {},
   "outputs": [],
   "source": [
    "final_model=rand_mod.fit(xtrain,ytrain)"
   ]
  },
  {
   "cell_type": "code",
   "execution_count": 54,
   "metadata": {},
   "outputs": [],
   "source": [
    "yypred=final_model.predict(xtest)"
   ]
  },
  {
   "cell_type": "code",
   "execution_count": 55,
   "metadata": {},
   "outputs": [
    {
     "data": {
      "text/plain": [
       "array([ 6543.9, 13882.6,  5231.3, ...,  7788.9,  4138. ,  4174. ])"
      ]
     },
     "execution_count": 55,
     "metadata": {},
     "output_type": "execute_result"
    }
   ],
   "source": [
    "yypred"
   ]
  },
  {
   "cell_type": "markdown",
   "metadata": {},
   "source": [
    "# Fitting Test_Data"
   ]
  },
  {
   "cell_type": "code",
   "execution_count": 56,
   "metadata": {},
   "outputs": [],
   "source": [
    "test_data=pd.read_excel('TEST-11.xlsx')"
   ]
  },
  {
   "cell_type": "code",
   "execution_count": 57,
   "metadata": {},
   "outputs": [
    {
     "name": "stdout",
     "output_type": "stream",
     "text": [
      "<class 'pandas.core.frame.DataFrame'>\n",
      "RangeIndex: 1683 entries, 0 to 1682\n",
      "Data columns (total 10 columns):\n",
      "Airline              1683 non-null object\n",
      "Date                 1683 non-null object\n",
      "Departure Station    1683 non-null object\n",
      "Arrival Station      1683 non-null object\n",
      "Route Map            1682 non-null object\n",
      "Departure Time       1683 non-null object\n",
      "Arrival Time         1683 non-null object\n",
      "Journey Time         1683 non-null object\n",
      "Stops                1682 non-null object\n",
      "Extra Info           1683 non-null object\n",
      "dtypes: object(10)\n",
      "memory usage: 131.6+ KB\n"
     ]
    }
   ],
   "source": [
    "test_data.info()"
   ]
  },
  {
   "cell_type": "code",
   "execution_count": 59,
   "metadata": {},
   "outputs": [],
   "source": [
    "test_data['Departure Station']=le.fit_transform(test_data['Departure Station'])"
   ]
  },
  {
   "cell_type": "code",
   "execution_count": 60,
   "metadata": {},
   "outputs": [],
   "source": [
    "test_data['Airline']=le.fit_transform(test_data['Airline'])"
   ]
  },
  {
   "cell_type": "code",
   "execution_count": 61,
   "metadata": {},
   "outputs": [],
   "source": [
    "test_data['Arrival Station']=le.fit_transform(test_data['Arrival Station'])"
   ]
  },
  {
   "cell_type": "code",
   "execution_count": 62,
   "metadata": {},
   "outputs": [],
   "source": [
    "test_data['Departure Time']=le.fit_transform(test_data['Departure Time'])"
   ]
  },
  {
   "cell_type": "code",
   "execution_count": 63,
   "metadata": {},
   "outputs": [],
   "source": [
    "test_data['Extra Info']=le.fit_transform(test_data['Extra Info'])"
   ]
  },
  {
   "cell_type": "code",
   "execution_count": 64,
   "metadata": {},
   "outputs": [],
   "source": [
    "lst=[]\n",
    "for i in test_data['Journey Time']:\n",
    "    l=i.split(' ')\n",
    "    h=l[0].split('h')[0]\n",
    "    hr=int(h[0])\n",
    "    if(len(l)==2):\n",
    "        m=l[1].split('m')\n",
    "        mi=int(m[0])\n",
    "    else:\n",
    "        mi=0\n",
    "    t=(hr*60)+mi\n",
    "    lst.append(t)"
   ]
  },
  {
   "cell_type": "code",
   "execution_count": 65,
   "metadata": {},
   "outputs": [],
   "source": [
    "lst=[]\n",
    "for i in test_data['Journey Time']:\n",
    "    l=i.split(' ')\n",
    "    h=l[0].split('h')[0]\n",
    "    hr=int(h)\n",
    "    if(len(l)==2):\n",
    "        m=l[1].split('m')[0]\n",
    "        mi=int(m)\n",
    "    else:\n",
    "        mi=0\n",
    "    t=(hr*60)+mi\n",
    "    lst.append(t)"
   ]
  },
  {
   "cell_type": "code",
   "execution_count": 66,
   "metadata": {},
   "outputs": [],
   "source": [
    "test_data['Journey_Time']=lst"
   ]
  },
  {
   "cell_type": "code",
   "execution_count": 67,
   "metadata": {},
   "outputs": [
    {
     "data": {
      "text/html": [
       "<div>\n",
       "<style scoped>\n",
       "    .dataframe tbody tr th:only-of-type {\n",
       "        vertical-align: middle;\n",
       "    }\n",
       "\n",
       "    .dataframe tbody tr th {\n",
       "        vertical-align: top;\n",
       "    }\n",
       "\n",
       "    .dataframe thead th {\n",
       "        text-align: right;\n",
       "    }\n",
       "</style>\n",
       "<table border=\"1\" class=\"dataframe\">\n",
       "  <thead>\n",
       "    <tr style=\"text-align: right;\">\n",
       "      <th></th>\n",
       "      <th>Airline</th>\n",
       "      <th>Date</th>\n",
       "      <th>Departure Station</th>\n",
       "      <th>Arrival Station</th>\n",
       "      <th>Route Map</th>\n",
       "      <th>Departure Time</th>\n",
       "      <th>Arrival Time</th>\n",
       "      <th>Journey Time</th>\n",
       "      <th>Stops</th>\n",
       "      <th>Extra Info</th>\n",
       "      <th>Journey_Time</th>\n",
       "    </tr>\n",
       "  </thead>\n",
       "  <tbody>\n",
       "    <tr>\n",
       "      <th>0</th>\n",
       "      <td>4</td>\n",
       "      <td>9/05/2019</td>\n",
       "      <td>3</td>\n",
       "      <td>0</td>\n",
       "      <td>CCU → DEL → BLR</td>\n",
       "      <td>163</td>\n",
       "      <td>21:05 10 May</td>\n",
       "      <td>24h 40m</td>\n",
       "      <td>1 stop</td>\n",
       "      <td>7</td>\n",
       "      <td>1480</td>\n",
       "    </tr>\n",
       "    <tr>\n",
       "      <th>1</th>\n",
       "      <td>2</td>\n",
       "      <td>15/04/2019</td>\n",
       "      <td>0</td>\n",
       "      <td>2</td>\n",
       "      <td>BLR → DEL</td>\n",
       "      <td>168</td>\n",
       "      <td>23:40</td>\n",
       "      <td>2h 45m</td>\n",
       "      <td>non-stop</td>\n",
       "      <td>7</td>\n",
       "      <td>165</td>\n",
       "    </tr>\n",
       "    <tr>\n",
       "      <th>2</th>\n",
       "      <td>4</td>\n",
       "      <td>12/06/2019</td>\n",
       "      <td>2</td>\n",
       "      <td>1</td>\n",
       "      <td>DEL → JAI → BOM → COK</td>\n",
       "      <td>61</td>\n",
       "      <td>04:25 13 Jun</td>\n",
       "      <td>18h 45m</td>\n",
       "      <td>2 stops</td>\n",
       "      <td>4</td>\n",
       "      <td>1125</td>\n",
       "    </tr>\n",
       "    <tr>\n",
       "      <th>3</th>\n",
       "      <td>8</td>\n",
       "      <td>18/03/2019</td>\n",
       "      <td>0</td>\n",
       "      <td>5</td>\n",
       "      <td>BLR → DEL</td>\n",
       "      <td>24</td>\n",
       "      <td>08:35</td>\n",
       "      <td>2h 50m</td>\n",
       "      <td>non-stop</td>\n",
       "      <td>6</td>\n",
       "      <td>170</td>\n",
       "    </tr>\n",
       "    <tr>\n",
       "      <th>4</th>\n",
       "      <td>8</td>\n",
       "      <td>24/05/2019</td>\n",
       "      <td>0</td>\n",
       "      <td>2</td>\n",
       "      <td>BLR → DEL</td>\n",
       "      <td>26</td>\n",
       "      <td>08:35</td>\n",
       "      <td>2h 40m</td>\n",
       "      <td>non-stop</td>\n",
       "      <td>7</td>\n",
       "      <td>160</td>\n",
       "    </tr>\n",
       "  </tbody>\n",
       "</table>\n",
       "</div>"
      ],
      "text/plain": [
       "   Airline        Date  Departure Station  Arrival Station  \\\n",
       "0        4   9/05/2019                  3                0   \n",
       "1        2  15/04/2019                  0                2   \n",
       "2        4  12/06/2019                  2                1   \n",
       "3        8  18/03/2019                  0                5   \n",
       "4        8  24/05/2019                  0                2   \n",
       "\n",
       "               Route Map  Departure Time  Arrival Time Journey Time     Stops  \\\n",
       "0        CCU → DEL → BLR             163  21:05 10 May      24h 40m    1 stop   \n",
       "1              BLR → DEL             168         23:40       2h 45m  non-stop   \n",
       "2  DEL → JAI → BOM → COK              61  04:25 13 Jun      18h 45m   2 stops   \n",
       "3              BLR → DEL              24         08:35       2h 50m  non-stop   \n",
       "4              BLR → DEL              26         08:35       2h 40m  non-stop   \n",
       "\n",
       "   Extra Info  Journey_Time  \n",
       "0           7          1480  \n",
       "1           7           165  \n",
       "2           4          1125  \n",
       "3           6           170  \n",
       "4           7           160  "
      ]
     },
     "execution_count": 67,
     "metadata": {},
     "output_type": "execute_result"
    }
   ],
   "source": [
    "test_data.head()"
   ]
  },
  {
   "cell_type": "code",
   "execution_count": 68,
   "metadata": {},
   "outputs": [],
   "source": [
    "test_data[\"Date\"]=pd.to_datetime(test_data['Date'])\n",
    "test_data['Month']=test_data['Date'].dt.month"
   ]
  },
  {
   "cell_type": "code",
   "execution_count": 69,
   "metadata": {},
   "outputs": [],
   "source": [
    "test_data['Day']=test_data['Date'].dt.day"
   ]
  },
  {
   "cell_type": "code",
   "execution_count": 70,
   "metadata": {},
   "outputs": [],
   "source": [
    "lst=[]\n",
    "for i in test_data['Arrival Time']:\n",
    "    l=i.split(' ')[0]\n",
    "    lst.append(l)"
   ]
  },
  {
   "cell_type": "code",
   "execution_count": 71,
   "metadata": {},
   "outputs": [],
   "source": [
    "test_data['Arrival_Time']=lst"
   ]
  },
  {
   "cell_type": "code",
   "execution_count": 72,
   "metadata": {},
   "outputs": [],
   "source": [
    "test_data['Arrival_Time']=le.fit_transform(test_data['Arrival_Time'])"
   ]
  },
  {
   "cell_type": "code",
   "execution_count": 73,
   "metadata": {},
   "outputs": [],
   "source": [
    "test_data['Stops']=test_data['Stops'].fillna('1 stop')"
   ]
  },
  {
   "cell_type": "code",
   "execution_count": 74,
   "metadata": {},
   "outputs": [],
   "source": [
    "test_data.Stops.replace('non-stop',0,inplace=True)\n",
    "test_data.Stops.replace('1 stop',1,inplace=True)\n",
    "test_data.Stops.replace('2 stops',2,inplace=True)\n",
    "test_data.Stops.replace('3 stops',3,inplace=True)\n",
    "test_data.Stops.replace('4 stops',4,inplace=True)"
   ]
  },
  {
   "cell_type": "code",
   "execution_count": 75,
   "metadata": {},
   "outputs": [],
   "source": [
    "test_data=test_data.drop(['Date','Route Map','Arrival Time','Journey Time'],1)"
   ]
  },
  {
   "cell_type": "code",
   "execution_count": 76,
   "metadata": {},
   "outputs": [],
   "source": [
    "final_ypred=final_model.predict(test_data)"
   ]
  },
  {
   "cell_type": "code",
   "execution_count": 77,
   "metadata": {},
   "outputs": [],
   "source": [
    "final_price=pd.DataFrame()"
   ]
  },
  {
   "cell_type": "code",
   "execution_count": 78,
   "metadata": {},
   "outputs": [],
   "source": [
    "lst=[]\n",
    "for i in final_ypred:\n",
    "    l=round(i)\n",
    "    lst.append(l)"
   ]
  },
  {
   "cell_type": "code",
   "execution_count": 79,
   "metadata": {},
   "outputs": [],
   "source": [
    "final_price['Price']=lst"
   ]
  },
  {
   "cell_type": "code",
   "execution_count": 80,
   "metadata": {},
   "outputs": [],
   "source": [
    "final_price=final_price.set_index('Price')"
   ]
  },
  {
   "cell_type": "code",
   "execution_count": 81,
   "metadata": {},
   "outputs": [],
   "source": [
    "final_price.to_csv('Flight_Prices_Output.csv')"
   ]
  },
  {
   "cell_type": "code",
   "execution_count": 82,
   "metadata": {},
   "outputs": [
    {
     "data": {
      "text/plain": [
       "<matplotlib.axes._subplots.AxesSubplot at 0x1a12edff668>"
      ]
     },
     "execution_count": 82,
     "metadata": {},
     "output_type": "execute_result"
    },
    {
     "data": {
      "image/png": "[encoded data removed]",
      "text/plain": [
       "<Figure size 432x288 with 1 Axes>"
      ]
     },
     "metadata": {
      "needs_background": "light"
     },
     "output_type": "display_data"
    }
   ],
   "source": [
    "sb.scatterplot(yypred,ytest)"
   ]
  },
  {
   "cell_type": "code",
   "execution_count": null,
   "metadata": {},
   "outputs": [],
   "source": []
  }
 ],
 "metadata": {
  "kernelspec": {
   "display_name": "Python 3",
   "language": "python",
   "name": "python3"
  },
  "language_info": {
   "codemirror_mode": {
    "name": "ipython",
    "version": 3
   },
   "file_extension": ".py",
   "mimetype": "text/x-python",
   "name": "python",
   "nbconvert_exporter": "python",
   "pygments_lexer": "ipython3",
   "version": "3.7.3"
  }
 },
 "nbformat": 4,
 "nbformat_minor": 2
}
